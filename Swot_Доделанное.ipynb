{
  "nbformat": 4,
  "nbformat_minor": 0,
  "metadata": {
    "colab": {
      "name": "Добро пожаловать в Colaboratory!",
      "provenance": [],
      "collapsed_sections": [],
      "toc_visible": true,
      "include_colab_link": true
    },
    "kernelspec": {
      "display_name": "Python 3",
      "name": "python3"
    }
  },
  "cells": [
    {
      "cell_type": "markdown",
      "metadata": {
        "id": "view-in-github",
        "colab_type": "text"
      },
      "source": [
        "<a href=\"https://colab.research.google.com/github/Vladislav118/test_25/blob/main/Swot_%D0%94%D0%BE%D0%B4%D0%B5%D0%BB%D0%B0%D0%BD%D0%BD%D0%BE%D0%B5.ipynb\" target=\"_parent\"><img src=\"https://colab.research.google.com/assets/colab-badge.svg\" alt=\"Open In Colab\"/></a>"
      ]
    },
    {
      "cell_type": "code",
      "metadata": {
        "id": "GnzXgxJ6hM2G",
        "outputId": "ff205df5-2771-4870-ada2-57be91c7e965",
        "colab": {
          "base_uri": "https://localhost:8080/",
          "height": 0
        }
      },
      "source": [
        "#@title ФИО\r\n",
        "print(\"Группа: 20БИ-3\")\r\n",
        "print(\"ФИО: Расчупкин Владислав Ярославович\")\r\n",
        "!ln -fs /usr/share/zoneinfo/Europe/Moscow /etc/localtime\r\n",
        "!date"
      ],
      "execution_count": 35,
      "outputs": [
        {
          "output_type": "stream",
          "text": [
            "Группа: 20БИ-3\n",
            "ФИО: Расчупкин Владислав Ярославович\n",
            "Thu Mar 11 22:41:54 MSK 2021\n"
          ],
          "name": "stdout"
        }
      ]
    },
    {
      "cell_type": "code",
      "metadata": {
        "id": "Q227r0bfjZ2E",
        "outputId": "fe82b94d-64c5-44fb-cfbe-ac73a32cbbb9",
        "colab": {
          "base_uri": "https://localhost:8080/",
          "height": 0
        }
      },
      "source": [
        "#@title Подключение к google диску\r\n",
        "import gspread\r\n",
        "import os\r\n",
        "\r\n",
        "from google.colab import auth\r\n",
        "auth.authenticate_user()\r\n",
        "!pip install --upgrade gspread\r\n",
        "\r\n",
        "from google.colab import drive\r\n",
        "drive.mount('/content/drive')\r\n",
        "\r\n",
        "print('\\n', os.listdir('/content/drive/MyDrive/Colab Notebooks/swot'))\r\n",
        "%ll -lF /content/drive/MyDrive/\"Colab Notebooks\"/swot/\r\n",
        "\r\n",
        "from oauth2client.client import GoogleCredentials\r\n",
        "gs = gspread.authorize(GoogleCredentials.get_application_default())\r\n",
        "\r\n",
        "table = gs.open_by_key('1dRFTRj9vWIJmrmJCUoP3rsfy7aC3KV45zeQ9nhxWpUk')\r\n",
        "print('\\n', table.worksheets())\r\n",
        "\r\n",
        "!ln -fs /usr/share/zoneinfo/Europe/Moscow /etc/localtime\r\n",
        "print('\\n')"
      ],
      "execution_count": 36,
      "outputs": [
        {
          "output_type": "stream",
          "text": [
            "Requirement already up-to-date: gspread in /usr/local/lib/python3.7/dist-packages (3.7.0)\n",
            "Requirement already satisfied, skipping upgrade: google-auth-oauthlib>=0.4.1 in /usr/local/lib/python3.7/dist-packages (from gspread) (0.4.3)\n",
            "Requirement already satisfied, skipping upgrade: google-auth>=1.12.0 in /usr/local/lib/python3.7/dist-packages (from gspread) (1.27.1)\n",
            "Requirement already satisfied, skipping upgrade: requests-oauthlib>=0.7.0 in /usr/local/lib/python3.7/dist-packages (from google-auth-oauthlib>=0.4.1->gspread) (1.3.0)\n",
            "Requirement already satisfied, skipping upgrade: pyasn1-modules>=0.2.1 in /usr/local/lib/python3.7/dist-packages (from google-auth>=1.12.0->gspread) (0.2.8)\n",
            "Requirement already satisfied, skipping upgrade: cachetools<5.0,>=2.0.0 in /usr/local/lib/python3.7/dist-packages (from google-auth>=1.12.0->gspread) (4.2.1)\n",
            "Requirement already satisfied, skipping upgrade: rsa<5,>=3.1.4; python_version >= \"3.6\" in /usr/local/lib/python3.7/dist-packages (from google-auth>=1.12.0->gspread) (4.7.2)\n",
            "Requirement already satisfied, skipping upgrade: setuptools>=40.3.0 in /usr/local/lib/python3.7/dist-packages (from google-auth>=1.12.0->gspread) (54.0.0)\n",
            "Requirement already satisfied, skipping upgrade: six>=1.9.0 in /usr/local/lib/python3.7/dist-packages (from google-auth>=1.12.0->gspread) (1.15.0)\n",
            "Requirement already satisfied, skipping upgrade: oauthlib>=3.0.0 in /usr/local/lib/python3.7/dist-packages (from requests-oauthlib>=0.7.0->google-auth-oauthlib>=0.4.1->gspread) (3.1.0)\n",
            "Requirement already satisfied, skipping upgrade: requests>=2.0.0 in /usr/local/lib/python3.7/dist-packages (from requests-oauthlib>=0.7.0->google-auth-oauthlib>=0.4.1->gspread) (2.23.0)\n",
            "Requirement already satisfied, skipping upgrade: pyasn1<0.5.0,>=0.4.6 in /usr/local/lib/python3.7/dist-packages (from pyasn1-modules>=0.2.1->google-auth>=1.12.0->gspread) (0.4.8)\n",
            "Requirement already satisfied, skipping upgrade: certifi>=2017.4.17 in /usr/local/lib/python3.7/dist-packages (from requests>=2.0.0->requests-oauthlib>=0.7.0->google-auth-oauthlib>=0.4.1->gspread) (2020.12.5)\n",
            "Requirement already satisfied, skipping upgrade: idna<3,>=2.5 in /usr/local/lib/python3.7/dist-packages (from requests>=2.0.0->requests-oauthlib>=0.7.0->google-auth-oauthlib>=0.4.1->gspread) (2.10)\n",
            "Requirement already satisfied, skipping upgrade: chardet<4,>=3.0.2 in /usr/local/lib/python3.7/dist-packages (from requests>=2.0.0->requests-oauthlib>=0.7.0->google-auth-oauthlib>=0.4.1->gspread) (3.0.4)\n",
            "Requirement already satisfied, skipping upgrade: urllib3!=1.25.0,!=1.25.1,<1.26,>=1.21.1 in /usr/local/lib/python3.7/dist-packages (from requests>=2.0.0->requests-oauthlib>=0.7.0->google-auth-oauthlib>=0.4.1->gspread) (1.24.3)\n",
            "Drive already mounted at /content/drive; to attempt to forcibly remount, call drive.mount(\"/content/drive\", force_remount=True).\n",
            "\n",
            " ['matplot_bar_swot.png', 'WhyMusic.gsheet']\n",
            "total 13\n",
            "-rw------- 1 root 12367 Mar 11 22:19 matplot_bar_swot.png\n",
            "-rw------- 1 root   151 Mar 11 22:37 WhyMusic.gsheet\n",
            "\n",
            " [<Worksheet 'Why' id:0>, <Worksheet 'strenghts' id:1659969885>, <Worksheet 'weakness' id:2033031585>, <Worksheet 'opportunities' id:1681870590>, <Worksheet 'threats' id:1717404917>]\n",
            "\n",
            "\n"
          ],
          "name": "stdout"
        }
      ]
    },
    {
      "cell_type": "code",
      "metadata": {
        "id": "DMNYcxESkQL-",
        "outputId": "dca0b29f-cd8f-4757-8e9e-0c034f4d9a7b",
        "colab": {
          "base_uri": "https://localhost:8080/",
          "height": 530
        }
      },
      "source": [
        "#@title Strength диаграмма\r\n",
        "import matplotlib.pyplot as plt\r\n",
        "\r\n",
        "worksheet = table.worksheet(\"strenghts\")\r\n",
        "rows = worksheet.get_all_values()\r\n",
        "str_name = list()\r\n",
        "str_importance = list()\r\n",
        "str_probability = list()\r\n",
        "str_power = list()\r\n",
        "\r\n",
        "i = 0\r\n",
        "for row in rows:\r\n",
        "  if (i>2):\r\n",
        "    str_name.append(row[0])\r\n",
        "    str_importance.append(int(row[2]))\r\n",
        "    str_probability.append(float(row[3]))\r\n",
        "    str_power.append(int(row[2])*float(row[3]))\r\n",
        "  i+=1\r\n",
        "print('\\n', str_name, str_importance, str_probability, str_power, sep='\\n', end='\\n\\n')\r\n",
        "\r\n",
        "cell_list = worksheet.range('E4:E9')\r\n",
        "i = 0\r\n",
        "for cell in cell_list:\r\n",
        "    cell.value = str_power[i]\r\n",
        "    i+=1\r\n",
        "\r\n",
        "worksheet.update_cells(cell_list)\r\n",
        "\r\n",
        "labels = ['1', '2', '3', '4', '5','6' ]\r\n",
        "plt.ylabel(\"Мощность воздействия\")\r\n",
        "plt.xlabel(\"Обозначения:\")\r\n",
        "plt.title(\"Strengths:\")\r\n",
        "plt.bar(labels, str_power)\r\n",
        "plt.grid(axis = 'y', linestyle = '--')\r\n",
        "plt.show()\r\n",
        "for i in range(str_name.__len__()):\r\n",
        "        print(i+1, \" - \", str_name[i])\r\n",
        "        i += 1"
      ],
      "execution_count": 37,
      "outputs": [
        {
          "output_type": "stream",
          "text": [
            "\n",
            "\n",
            "['Сравнительно большой выбор товаров и спектр услуг\\r', 'Возможность заказа', 'Наличие эксклюзивных товаров\\r', 'Наличие знаний в требуемой области\\r', 'Знание рынка \\r', 'Прямое сотрудничество с производителями без поставщиков']\n",
            "[9, 8, 9, 7, 8, 7]\n",
            "[0.8, 0.7, 0.4, 0.7, 0.6, 0.4]\n",
            "[7.2, 5.6, 3.6, 4.8999999999999995, 4.8, 2.8000000000000003]\n",
            "\n"
          ],
          "name": "stdout"
        },
        {
          "output_type": "display_data",
          "data": {
            "image/png": "[encoded data removed]",
            "text/plain": [
              "<Figure size 432x288 with 1 Axes>"
            ]
          },
          "metadata": {
            "tags": [],
            "needs_background": "light"
          }
        },
        {
          "output_type": "stream",
          "text": [
            "1  -  Сравнительно большой выбор товаров и спектр услуг\r\n",
            "2  -  Возможность заказа\n",
            "3  -  Наличие эксклюзивных товаров\r\n",
            "4  -  Наличие знаний в требуемой области\r\n",
            "5  -  Знание рынка \r\n",
            "6  -  Прямое сотрудничество с производителями без поставщиков\n"
          ],
          "name": "stdout"
        }
      ]
    },
    {
      "cell_type": "code",
      "metadata": {
        "id": "CfzrBAK7mQ13",
        "outputId": "c303a074-d96d-43fd-9039-187bd15ad984",
        "colab": {
          "base_uri": "https://localhost:8080/",
          "height": 530
        }
      },
      "source": [
        "#@title Weakness диаграмма\r\n",
        "worksheet = table.worksheet(\"weakness\")\r\n",
        "rows = worksheet.get_all_values()\r\n",
        "weak_name = list()\r\n",
        "weak_importance = list()\r\n",
        "weak_probability = list()\r\n",
        "weak_power = list()\r\n",
        "\r\n",
        "i = 0\r\n",
        "for row in rows:\r\n",
        "  if (i>2):\r\n",
        "    weak_name.append(row[0])\r\n",
        "    weak_importance.append(int(row[2]))\r\n",
        "    weak_probability.append(float(row[3]))\r\n",
        "    weak_power.append(int(row[2])*float(row[3]))\r\n",
        "  i+=1\r\n",
        "print('\\n', weak_name, weak_importance, weak_probability, weak_power, sep='\\n', end='\\n\\n')\r\n",
        "\r\n",
        "cell_list = worksheet.range('E4:E8')\r\n",
        "i = 0\r\n",
        "for cell in cell_list:\r\n",
        "    cell.value = weak_power[i]\r\n",
        "    i+=1\r\n",
        "\r\n",
        "worksheet.update_cells(cell_list)\r\n",
        "\r\n",
        "labels = ['1', '2', '3', '4', '5', '6']\r\n",
        "plt.ylabel(\"Мощность воздействия\")\r\n",
        "plt.xlabel(\"Обозначения:\")\r\n",
        "plt.title(\"Weaknesses:\")\r\n",
        "plt.bar(labels, weak_power)\r\n",
        "plt.grid(axis = 'y', linestyle = '--')\r\n",
        "plt.show()\r\n",
        "for i in range(weak_name.__len__()):\r\n",
        "        print(i+1, \" - \", weak_name[i])\r\n",
        "        i += 1"
      ],
      "execution_count": 38,
      "outputs": [
        {
          "output_type": "stream",
          "text": [
            "\n",
            "\n",
            "['Необходимость больших затрат на рекламу \\r', 'Необходимость аренды помещения\\r', 'В наличии может не оказаться требуемого товара', 'Необходимость преобрести продукцию', 'Малое число вовлеченной аудитории', 'Высокий уровень цен']\n",
            "[7, 6, 7, 7, 5, 4]\n",
            "[0.5, 0.6, 0.4, 0.6, 0.5, 0.4]\n",
            "[3.5, 3.5999999999999996, 2.8000000000000003, 4.2, 2.5, 1.6]\n",
            "\n"
          ],
          "name": "stdout"
        },
        {
          "output_type": "display_data",
          "data": {
            "image/png": "[encoded data removed]",
            "text/plain": [
              "<Figure size 432x288 with 1 Axes>"
            ]
          },
          "metadata": {
            "tags": [],
            "needs_background": "light"
          }
        },
        {
          "output_type": "stream",
          "text": [
            "1  -  Необходимость больших затрат на рекламу \r\n",
            "2  -  Необходимость аренды помещения\r\n",
            "3  -  В наличии может не оказаться требуемого товара\n",
            "4  -  Необходимость преобрести продукцию\n",
            "5  -  Малое число вовлеченной аудитории\n",
            "6  -  Высокий уровень цен\n"
          ],
          "name": "stdout"
        }
      ]
    },
    {
      "cell_type": "code",
      "metadata": {
        "id": "_ytdEXyRnkgM",
        "outputId": "79da0073-76a6-4c6c-b192-931abe8d2a3c",
        "colab": {
          "base_uri": "https://localhost:8080/",
          "height": 530
        }
      },
      "source": [
        "#@title Opportunities диаграмма\r\n",
        "worksheet = table.worksheet(\"opportunities\")\r\n",
        "rows = worksheet.get_all_values()\r\n",
        "opp_name = list()\r\n",
        "opp_importance = list()\r\n",
        "opp_probability = list()\r\n",
        "opp_power = list()\r\n",
        "\r\n",
        "i = 0\r\n",
        "for row in rows:\r\n",
        "  if (i>2):\r\n",
        "    opp_name.append(row[0])\r\n",
        "    opp_importance.append(int(row[2]))\r\n",
        "    opp_probability.append(float(row[3]))\r\n",
        "    opp_power.append(int(row[2])*float(row[3]))  \r\n",
        "  i+=1\r\n",
        "print('\\n', opp_name, opp_importance, opp_probability, opp_power, sep='\\n', end='\\n\\n')\r\n",
        "\r\n",
        "cell_list = worksheet.range('E4:E8')\r\n",
        "i = 0\r\n",
        "for cell in cell_list:\r\n",
        "    cell.value = opp_power[i]\r\n",
        "    i+=1\r\n",
        "worksheet.update_cells(cell_list)\r\n",
        "\r\n",
        "labels = ['1', '2', '3', '4', '5', '6']\r\n",
        "plt.ylabel(\"Мощность воздействия\")\r\n",
        "plt.xlabel(\"Обозначения:\")\r\n",
        "plt.title(\"Opportunities:\")\r\n",
        "plt.bar(labels, opp_power)\r\n",
        "plt.grid(axis = 'y', linestyle = '--')\r\n",
        "plt.show()\r\n",
        "for i in range(opp_name.__len__()):\r\n",
        "        print(i+1, \" - \", opp_name[i])\r\n",
        "        i += 1"
      ],
      "execution_count": 39,
      "outputs": [
        {
          "output_type": "stream",
          "text": [
            "\n",
            "\n",
            "['Представить инструменты в премиум сегменте', 'Проведение тренингов', 'Создание веб сайта', 'Квалификация персонала', 'Добавление в точках продаж статистику проданных товаров', 'Выдача вуачеров , а так же накопительные и скидочные карты']\n",
            "[6, 7, 6, 8, 3, 4]\n",
            "[0.7, 0.8, 0.9, 0.7, 0.8, 0.9]\n",
            "[4.199999999999999, 5.6000000000000005, 5.4, 5.6, 2.4000000000000004, 3.6]\n",
            "\n"
          ],
          "name": "stdout"
        },
        {
          "output_type": "display_data",
          "data": {
            "image/png": "[encoded data removed]",
            "text/plain": [
              "<Figure size 432x288 with 1 Axes>"
            ]
          },
          "metadata": {
            "tags": [],
            "needs_background": "light"
          }
        },
        {
          "output_type": "stream",
          "text": [
            "1  -  Представить инструменты в премиум сегменте\n",
            "2  -  Проведение тренингов\n",
            "3  -  Создание веб сайта\n",
            "4  -  Квалификация персонала\n",
            "5  -  Добавление в точках продаж статистику проданных товаров\n",
            "6  -  Выдача вуачеров , а так же накопительные и скидочные карты\n"
          ],
          "name": "stdout"
        }
      ]
    },
    {
      "cell_type": "code",
      "metadata": {
        "id": "yl6KCTnZnk3i",
        "outputId": "2c936a69-1cf0-4f51-df3e-a372325827d6",
        "colab": {
          "base_uri": "https://localhost:8080/",
          "height": 530
        }
      },
      "source": [
        "#@title Threats диаграмма\r\n",
        "worksheet = table.worksheet(\"threats\")\r\n",
        "rows = worksheet.get_all_values()\r\n",
        "thr_name = list()\r\n",
        "thr_importance = list()\r\n",
        "thr_probability = list()\r\n",
        "thr_power = list()\r\n",
        "\r\n",
        "i = 0\r\n",
        "for row in rows:\r\n",
        "  if (i>2):\r\n",
        "    thr_name.append(row[0])\r\n",
        "    thr_importance.append(int(row[2]))\r\n",
        "    thr_probability.append(float(row[3]))\r\n",
        "    thr_power.append(int(row[2])*float(row[3]))    \r\n",
        "  i+=1\r\n",
        "print('\\n', thr_name, thr_importance, thr_probability, thr_power, sep='\\n', end='\\n\\n')\r\n",
        "\r\n",
        "cell_list = worksheet.range('E4:E8')\r\n",
        "i = 0\r\n",
        "for cell in cell_list:\r\n",
        "    cell.value = thr_power[i]\r\n",
        "    i+=1\r\n",
        "\r\n",
        "worksheet.update_cells(cell_list)\r\n",
        "\r\n",
        "labels = ['1', '2', '3', '4', '5', '6']\r\n",
        "plt.ylabel(\"Мощность воздействия\")\r\n",
        "plt.xlabel(\"Обозначения:\")\r\n",
        "plt.title(\"Threats:\")\r\n",
        "plt.bar(labels, thr_power)\r\n",
        "plt.grid(axis = 'y', linestyle = '--')\r\n",
        "plt.show()\r\n",
        "for i in range(thr_name.__len__()):\r\n",
        "        print(i+1, \" - \", thr_name[i])\r\n",
        "        i += 1"
      ],
      "execution_count": 40,
      "outputs": [
        {
          "output_type": "stream",
          "text": [
            "\n",
            "\n",
            "['Отсутсвие важных частей инструмента', 'Отсутсвие заинтересованности продовца в пакупателе', 'Конкуренция', 'Относительно небольшие барьеры вступления на рынок конкурентов', 'Повышение цен на продукцию', 'Закрытые границы(отсутвие ввоза нового товара)']\n",
            "[5, 7, 6, 4, 3, 6]\n",
            "[0.5, 0.6, 0.2, 0.3, 0.4, 0.4]\n",
            "[2.5, 4.2, 1.2000000000000002, 1.2, 1.2000000000000002, 2.4000000000000004]\n",
            "\n"
          ],
          "name": "stdout"
        },
        {
          "output_type": "display_data",
          "data": {
            "image/png": "[encoded data removed]",
            "text/plain": [
              "<Figure size 432x288 with 1 Axes>"
            ]
          },
          "metadata": {
            "tags": [],
            "needs_background": "light"
          }
        },
        {
          "output_type": "stream",
          "text": [
            "1  -  Отсутсвие важных частей инструмента\n",
            "2  -  Отсутсвие заинтересованности продовца в пакупателе\n",
            "3  -  Конкуренция\n",
            "4  -  Относительно небольшие барьеры вступления на рынок конкурентов\n",
            "5  -  Повышение цен на продукцию\n",
            "6  -  Закрытые границы(отсутвие ввоза нового товара)\n"
          ],
          "name": "stdout"
        }
      ]
    },
    {
      "cell_type": "code",
      "metadata": {
        "id": "U7Qdizuelxdh",
        "outputId": "83d6de79-d277-4495-dda7-49f7cf1acf37",
        "colab": {
          "base_uri": "https://localhost:8080/",
          "height": 1013
        }
      },
      "source": [
        "#@title Конечная диаграмма\r\n",
        "import os\r\n",
        "import time\r\n",
        "from google.colab import auth\r\n",
        "auth.authenticate_user()\r\n",
        "!pip install --upgrade gspread\r\n",
        "import gspread\r\n",
        "from oauth2client.client import GoogleCredentials\r\n",
        "print('\\nРаботаем с таблицей')\r\n",
        "%ll -lAF /content/drive/MyDrive/\"Colab Notebooks\"/fold/\r\n",
        "gs = gspread.authorize(GoogleCredentials.get_application_default())\r\n",
        "os.stat('/content/drive/MyDrive/Colab Notebooks/swot/WhyMusic.gsheet')\r\n",
        "table = gs.open_by_key('1dRFTRj9vWIJmrmJCUoP3rsfy7aC3KV45zeQ9nhxWpUk')\r\n",
        "worksheet = table.worksheet('Why')\r\n",
        "rows = worksheet.get_all_values()\r\n",
        "print(rows)\r\n",
        "strength = [0] * 6\r\n",
        "s = 0\r\n",
        "opportunities = [0] * 6\r\n",
        "o = 0\r\n",
        "weakness = [0] * 6\r\n",
        "w = 0\r\n",
        "threats = [0] * 6\r\n",
        "t = 0\r\n",
        "flag = 'strength'\r\n",
        "for i in rows:\r\n",
        "  if i[0] == 'strength':\r\n",
        "    flag = 'strength'\r\n",
        "  if i[0] == 'weakness':\r\n",
        "    flag = 'weakness'\r\n",
        "  if i[0] == 'opportunities':\r\n",
        "    flag = 'opportunities'\r\n",
        "  if i[0] == 'threats':\r\n",
        "    flag = 'threats'\r\n",
        "  if flag == 'strength' and i[4] != '' and i[4] != 'power':\r\n",
        "    strength[s] = i[4]\r\n",
        "    s = s + 1\r\n",
        "  if flag == 'opportunities' and i[4] != '' and i[4] != 'power':\r\n",
        "    opportunities[o] = i[4]\r\n",
        "    o = o + 1\r\n",
        "  if flag == 'weakness' and i[4] != '' and i[4] != 'power':\r\n",
        "    weakness[w] = i[4]\r\n",
        "    w = w + 1\r\n",
        "  if flag == 'threats' and i[4] != '' and i[4] != 'power':\r\n",
        "    threats[t] = i[4]\r\n",
        "    t = t + 1\r\n",
        "streng = 0\r\n",
        "opport = 0\r\n",
        "weak = 0\r\n",
        "threat = 0\r\n",
        "for i in strength:\r\n",
        "  streng = streng + float(i)\r\n",
        "for i in opportunities:\r\n",
        "  opport = opport + float(i)\r\n",
        "for i in weakness:\r\n",
        "  weak = weak + float(i)\r\n",
        "for i in threats:\r\n",
        "  threat = threat + float(i)\r\n",
        "\r\n",
        "import matplotlib.pyplot as plt\r\n",
        "x=list()\r\n",
        "x_float=list()\r\n",
        "title=list()\r\n",
        "y_float=list()\r\n",
        "    \r\n",
        "title = [ \"strengths\", \"weaknesses\", \"opportunities\", \"threats\", \"result\"]\r\n",
        "x=title\r\n",
        "x_float = [1, 2, 3, 4, 5]\r\n",
        "result = streng - 1*weak + opport - 1*threat\r\n",
        "y = [streng, weak, opport, threat]\r\n",
        "y_float = [streng, -1*weak, opport, -1*threat,  result]\r\n",
        "print(x_float,title,y_float)\r\n",
        "print('списки формированы-->\\n')\r\n",
        "x_pos=list()\r\n",
        "for i in range(x_float.__len__()):\r\n",
        "    x_pos.append(i)\r\n",
        "print('<!--разбивка по абсцисс и значения ординат\\n', len( x_float), x_pos, y_float, ' -->\\n')\r\n",
        "\r\n",
        "fig=plt.figure(figsize=(8,6), dpi=72)\r\n",
        "plt.bar(x_pos, y_float, width=0.75, align='edge', alpha=0.4)\r\n",
        "plt.xticks(x_pos,  x_float, fontsize=14)\r\n",
        "plt.xlabel('Обозначения1', fontsize=14)\r\n",
        "plt.ylabel('Мощность воздействия', fontsize=14)\r\n",
        "plt.title('SWOT', fontsize=14)\r\n",
        "plt.grid(True, color='r', linestyle='-', linewidth=2)\r\n",
        "#plt.draw()\r\n",
        "plt.show()\r\n",
        "fig.savefig(\"/content/drive/MyDrive/Colab Notebooks/swot/matplot_bar_swot.png\")\r\n",
        "print('<div class=\"d-flex flex-row \">')\r\n",
        "print('<div class=\"card m-1\" style=\"width: 28rem;\">',\r\n",
        "      '<img  src=\"/content/drive/MyDrive/Colab Notebooks/foldr/matplot_bar_swot.png\" class=\"card-img-top\" alt=\"...\">',\r\n",
        "      '<div class=\"card-body\">')\r\n",
        "    \r\n",
        "for i in range(title.__len__()):\r\n",
        "    print(i+1, \" - \", title[i], \"; \")\r\n",
        "    i += 1\r\n",
        "print('</div>', '</div>')\r\n",
        "print('<div>')"
      ],
      "execution_count": 41,
      "outputs": [
        {
          "output_type": "stream",
          "text": [
            "Requirement already up-to-date: gspread in /usr/local/lib/python3.7/dist-packages (3.7.0)\n",
            "Requirement already satisfied, skipping upgrade: google-auth-oauthlib>=0.4.1 in /usr/local/lib/python3.7/dist-packages (from gspread) (0.4.3)\n",
            "Requirement already satisfied, skipping upgrade: google-auth>=1.12.0 in /usr/local/lib/python3.7/dist-packages (from gspread) (1.27.1)\n",
            "Requirement already satisfied, skipping upgrade: requests-oauthlib>=0.7.0 in /usr/local/lib/python3.7/dist-packages (from google-auth-oauthlib>=0.4.1->gspread) (1.3.0)\n",
            "Requirement already satisfied, skipping upgrade: setuptools>=40.3.0 in /usr/local/lib/python3.7/dist-packages (from google-auth>=1.12.0->gspread) (54.0.0)\n",
            "Requirement already satisfied, skipping upgrade: cachetools<5.0,>=2.0.0 in /usr/local/lib/python3.7/dist-packages (from google-auth>=1.12.0->gspread) (4.2.1)\n",
            "Requirement already satisfied, skipping upgrade: six>=1.9.0 in /usr/local/lib/python3.7/dist-packages (from google-auth>=1.12.0->gspread) (1.15.0)\n",
            "Requirement already satisfied, skipping upgrade: rsa<5,>=3.1.4; python_version >= \"3.6\" in /usr/local/lib/python3.7/dist-packages (from google-auth>=1.12.0->gspread) (4.7.2)\n",
            "Requirement already satisfied, skipping upgrade: pyasn1-modules>=0.2.1 in /usr/local/lib/python3.7/dist-packages (from google-auth>=1.12.0->gspread) (0.2.8)\n",
            "Requirement already satisfied, skipping upgrade: oauthlib>=3.0.0 in /usr/local/lib/python3.7/dist-packages (from requests-oauthlib>=0.7.0->google-auth-oauthlib>=0.4.1->gspread) (3.1.0)\n",
            "Requirement already satisfied, skipping upgrade: requests>=2.0.0 in /usr/local/lib/python3.7/dist-packages (from requests-oauthlib>=0.7.0->google-auth-oauthlib>=0.4.1->gspread) (2.23.0)\n",
            "Requirement already satisfied, skipping upgrade: pyasn1>=0.1.3 in /usr/local/lib/python3.7/dist-packages (from rsa<5,>=3.1.4; python_version >= \"3.6\"->google-auth>=1.12.0->gspread) (0.4.8)\n",
            "Requirement already satisfied, skipping upgrade: urllib3!=1.25.0,!=1.25.1,<1.26,>=1.21.1 in /usr/local/lib/python3.7/dist-packages (from requests>=2.0.0->requests-oauthlib>=0.7.0->google-auth-oauthlib>=0.4.1->gspread) (1.24.3)\n",
            "Requirement already satisfied, skipping upgrade: chardet<4,>=3.0.2 in /usr/local/lib/python3.7/dist-packages (from requests>=2.0.0->requests-oauthlib>=0.7.0->google-auth-oauthlib>=0.4.1->gspread) (3.0.4)\n",
            "Requirement already satisfied, skipping upgrade: idna<3,>=2.5 in /usr/local/lib/python3.7/dist-packages (from requests>=2.0.0->requests-oauthlib>=0.7.0->google-auth-oauthlib>=0.4.1->gspread) (2.10)\n",
            "Requirement already satisfied, skipping upgrade: certifi>=2017.4.17 in /usr/local/lib/python3.7/dist-packages (from requests>=2.0.0->requests-oauthlib>=0.7.0->google-auth-oauthlib>=0.4.1->gspread) (2020.12.5)\n",
            "\n",
            "Работаем с таблицей\n",
            "ls: cannot access '/content/drive/MyDrive/Colab Notebooks/fold/': No such file or directory\n",
            "[['', 'Магазин музыкальных инструментов \"WhyMusic\"', '', '', ''], ['', '', '', '', ''], ['strength', '', '', '', ''], ['name', 'actions', 'importance', 'probability', 'power'], ['Сравнительно большой выбор товаров и спектр услуг\\r', 'Расширение выбора на товар', '9', '0.8', '7.2'], ['Возможность заказа', 'Создание онлайн платформы для заказов', '8', '0.7', '5.6'], ['Наличие эксклюзивных товаров\\r', 'Предворительный заказ продукта и участие в аукционах', '9', '0.4', '3.6'], ['Наличие знаний в требуемой области\\r', 'Повышение квалификации сотрудников', '7', '0.7', '4.9'], ['Знание рынка \\r', 'Прохождение тренингов и вебинаров сотрудников', '8', '0.6', '4.8'], ['Прямое сотрудничество с производителями без поставщиков', 'Заключение контрактов с новыми производителями', '7', '0.4', '2.8'], ['', '', '', '', ''], ['', '', '', '', ''], ['weakness', '', '', '', ''], ['name', 'actions', 'importance', 'probability', 'power'], ['Необходимость больших затрат на рекламу \\r', 'Найм хорошего смм специалиста ', '7', '0.5', '3.5'], ['Необходимость аренды помещения\\r', 'Выбор не центр города , а что-то подальше', '6', '0.6', '3.6'], ['В наличии может не оказаться требуемого товара', 'Предварительный анализ имеющегося товара', '7', '0.4', '2.8'], ['Необходимость преобрести продукцию', 'Преобретение кредита ', '7', '0.6', '4.2'], ['Малое число вовлеченной аудитории', 'Проведение тренингов и семинаров', '5', '0.5', '2.5'], ['Высокий уровень цен', 'Анализ рынка и фиксация цен', '4', '0.4', '1.6'], ['', '', '', '', ''], ['', '', '', '', ''], ['opportunities', '', '', '', ''], ['name', 'actions', 'importance', 'probability', 'power'], ['Представить инструменты в премиум сегменте', 'Предворительный заказ', '6', '0.7', '4.2'], ['Проведение тренингов', 'Привлечение знаменитостей ', '7', '0.8', '5.6'], ['Создание веб сайта', 'Продвижение магазина через сайт, социальные сети', '6', '0.9', '5.4'], ['Квалификация персонала', 'Предоставление повышение квалификации', '8', '0.7', '5.6'], ['Добавление в точках продаж статистику проданных товаров', 'Размещение информации на сайте', '3', '0.8', '2.4'], ['Выдача вуачеров , а так же накопительные и скидочные карты', 'Предоставление скидки в свой день рождения и на новый год', '4', '0.9', '3.6'], ['', '', '', '', ''], ['', '', '', '', ''], ['threats', '', '', '', ''], ['name', 'actions', 'importance', 'probability', 'power'], ['Отсутсвие важных частей инструмента', 'Предворительный анализ наличия товара которого нет в наличии', '5', '0.5', '2.5'], ['Отсутсвие заинтересованности продовца в пакупателе', 'Проведение тестов во время пиема сотрудника на работу', '7', '0.6', '4.2'], ['Конкуренция', 'Расширение, создание филиалов', '6', '0.2', '1.2'], ['Относительно небольшие барьеры вступления на рынок конкурентов', 'Устойчивое становление на рынке', '4', '0.3', '1.2'], ['Повышение цен на продукцию', 'Установление фиксированной цены', '3', '0.4', '1.2'], ['Закрытые границы(отсутвие ввоза нового товара)', 'Предоставить возможность заказать продукт на будущее', '6', '0.4', '2.4'], ['', '', '', '', ''], ['', '', '', '', ''], ['strength 28.900000000000006', 'weakness 18.2', 'opportunities 26.8', 'threats 12.7', ''], ['sum power 24.8', 'probability of good result 0.6431870669745958', '', '', '']]\n",
            "[1, 2, 3, 4, 5] ['strengths', 'weaknesses', 'opportunities', 'threats', 'result'] [28.900000000000006, -18.2, 26.8, -12.7, 24.800000000000008]\n",
            "списки формированы-->\n",
            "\n",
            "<!--разбивка по абсцисс и значения ординат\n",
            " 5 [0, 1, 2, 3, 4] [28.900000000000006, -18.2, 26.8, -12.7, 24.800000000000008]  -->\n",
            "\n"
          ],
          "name": "stdout"
        },
        {
          "output_type": "display_data",
          "data": {
            "image/png": "[encoded data removed]",
            "text/plain": [
              "<Figure size 576x432 with 1 Axes>"
            ]
          },
          "metadata": {
            "tags": [],
            "needs_background": "light"
          }
        },
        {
          "output_type": "stream",
          "text": [
            "<div class=\"d-flex flex-row \">\n",
            "<div class=\"card m-1\" style=\"width: 28rem;\"> <img  src=\"/content/drive/MyDrive/Colab Notebooks/foldr/matplot_bar_swot.png\" class=\"card-img-top\" alt=\"...\"> <div class=\"card-body\">\n",
            "1  -  strengths ; \n",
            "2  -  weaknesses ; \n",
            "3  -  opportunities ; \n",
            "4  -  threats ; \n",
            "5  -  result ; \n",
            "</div> </div>\n",
            "<div>\n"
          ],
          "name": "stdout"
        }
      ]
    }
  ]
}