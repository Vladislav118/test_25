{
  "nbformat": 4,
  "nbformat_minor": 0,
  "metadata": {
    "colab": {
      "name": "Свот.ipynb",
      "provenance": [],
      "collapsed_sections": [],
      "authorship_tag": "ABX9TyPDGwniI+3P3qIIHvEY/z5l",
      "include_colab_link": true
    },
    "kernelspec": {
      "name": "python3",
      "display_name": "Python 3"
    },
    "language_info": {
      "name": "python"
    }
  },
  "cells": [
    {
      "cell_type": "markdown",
      "metadata": {
        "id": "view-in-github",
        "colab_type": "text"
      },
      "source": [
        "<a href=\"https://colab.research.google.com/github/Vladislav118/test_25/blob/main/%D0%A1%D0%B2%D0%BE%D1%82.ipynb\" target=\"_parent\"><img src=\"https://colab.research.google.com/assets/colab-badge.svg\" alt=\"Open In Colab\"/></a>"
      ]
    },
    {
      "cell_type": "code",
      "metadata": {
        "id": "gVVFlCRFGisN",
        "colab": {
          "base_uri": "https://localhost:8080/",
          "height": 686
        },
        "outputId": "4b4bbe42-6e61-4dc3-e0d2-da1a00f2f025"
      },
      "source": [
        "import gspread\n",
        "import os\n",
        "from google.colab import auth\n",
        "auth.authenticate_user()\n",
        "!pip install --upgrade gspread\n",
        "from google.colab import drive\n",
        "drive.mount('/content/drive')\n",
        "print('\\n', os.listdir('/content/drive/MyDrive/Colab Notebooks/kursovaya'))\n",
        "%ll -lF /content/drive/MyDrive/\"Colab Notebooks\"/swot/\n",
        "from oauth2client.client import GoogleCredentials\n",
        "gs = gspread.authorize(GoogleCredentials.get_application_default())\n",
        "table = gs.open_by_key('1ulDATdekYKsp_1Rm2mR9waUSIoPZID43VvYMaCNiFI0')\n",
        "print('\\n', table.worksheets())\n",
        "!ln -fs /usr/share/zoneinfo/Europe/Moscow /etc/localtime\n",
        "print('\\n')"
      ],
      "execution_count": null,
      "outputs": [
        {
          "output_type": "stream",
          "text": [
            "Collecting gspread\n",
            "  Downloading https://files.pythonhosted.org/packages/df/f0/e345e7159c89b898f183cc40ed9909619475492bb000652d709f395f096a/gspread-3.7.0-py3-none-any.whl\n",
            "Requirement already satisfied, skipping upgrade: google-auth-oauthlib>=0.4.1 in /usr/local/lib/python3.7/dist-packages (from gspread) (0.4.4)\n",
            "Requirement already satisfied, skipping upgrade: google-auth>=1.12.0 in /usr/local/lib/python3.7/dist-packages (from gspread) (1.30.0)\n",
            "Requirement already satisfied, skipping upgrade: requests-oauthlib>=0.7.0 in /usr/local/lib/python3.7/dist-packages (from google-auth-oauthlib>=0.4.1->gspread) (1.3.0)\n",
            "Requirement already satisfied, skipping upgrade: rsa<5,>=3.1.4; python_version >= \"3.6\" in /usr/local/lib/python3.7/dist-packages (from google-auth>=1.12.0->gspread) (4.7.2)\n",
            "Requirement already satisfied, skipping upgrade: cachetools<5.0,>=2.0.0 in /usr/local/lib/python3.7/dist-packages (from google-auth>=1.12.0->gspread) (4.2.2)\n",
            "Requirement already satisfied, skipping upgrade: pyasn1-modules>=0.2.1 in /usr/local/lib/python3.7/dist-packages (from google-auth>=1.12.0->gspread) (0.2.8)\n",
            "Requirement already satisfied, skipping upgrade: setuptools>=40.3.0 in /usr/local/lib/python3.7/dist-packages (from google-auth>=1.12.0->gspread) (57.0.0)\n",
            "Requirement already satisfied, skipping upgrade: six>=1.9.0 in /usr/local/lib/python3.7/dist-packages (from google-auth>=1.12.0->gspread) (1.15.0)\n",
            "Requirement already satisfied, skipping upgrade: oauthlib>=3.0.0 in /usr/local/lib/python3.7/dist-packages (from requests-oauthlib>=0.7.0->google-auth-oauthlib>=0.4.1->gspread) (3.1.0)\n",
            "Requirement already satisfied, skipping upgrade: requests>=2.0.0 in /usr/local/lib/python3.7/dist-packages (from requests-oauthlib>=0.7.0->google-auth-oauthlib>=0.4.1->gspread) (2.23.0)\n",
            "Requirement already satisfied, skipping upgrade: pyasn1>=0.1.3 in /usr/local/lib/python3.7/dist-packages (from rsa<5,>=3.1.4; python_version >= \"3.6\"->google-auth>=1.12.0->gspread) (0.4.8)\n",
            "Requirement already satisfied, skipping upgrade: idna<3,>=2.5 in /usr/local/lib/python3.7/dist-packages (from requests>=2.0.0->requests-oauthlib>=0.7.0->google-auth-oauthlib>=0.4.1->gspread) (2.10)\n",
            "Requirement already satisfied, skipping upgrade: chardet<4,>=3.0.2 in /usr/local/lib/python3.7/dist-packages (from requests>=2.0.0->requests-oauthlib>=0.7.0->google-auth-oauthlib>=0.4.1->gspread) (3.0.4)\n",
            "Requirement already satisfied, skipping upgrade: certifi>=2017.4.17 in /usr/local/lib/python3.7/dist-packages (from requests>=2.0.0->requests-oauthlib>=0.7.0->google-auth-oauthlib>=0.4.1->gspread) (2020.12.5)\n",
            "Requirement already satisfied, skipping upgrade: urllib3!=1.25.0,!=1.25.1,<1.26,>=1.21.1 in /usr/local/lib/python3.7/dist-packages (from requests>=2.0.0->requests-oauthlib>=0.7.0->google-auth-oauthlib>=0.4.1->gspread) (1.24.3)\n",
            "Installing collected packages: gspread\n",
            "  Found existing installation: gspread 3.0.1\n",
            "    Uninstalling gspread-3.0.1:\n",
            "      Successfully uninstalled gspread-3.0.1\n",
            "Successfully installed gspread-3.7.0\n"
          ],
          "name": "stdout"
        },
        {
          "output_type": "display_data",
          "data": {
            "application/vnd.colab-display-data+json": {
              "pip_warning": {
                "packages": [
                  "gspread"
                ]
              }
            }
          },
          "metadata": {
            "tags": []
          }
        },
        {
          "output_type": "stream",
          "text": [
            "Mounted at /content/drive\n",
            "\n",
            " ['Новая таблица.gsheet', 'Свот.gsheet', 'Финансы.gsheet', 'Финансы.ipynb', 'Свот.ipynb']\n",
            "total 13\n",
            "-rw------- 1 root 12367 Jun  8 13:29 matplot_bar_swot.png\n",
            "-rw------- 1 root   151 Jun  8 13:28 WhyMusic.gsheet\n",
            "\n",
            " [<Worksheet 'Лист1' id:0>, <Worksheet 'strength' id:863115909>, <Worksheet 'weakness' id:2087861129>, <Worksheet 'opportunities' id:511942562>, <Worksheet 'threats' id:1379803744>]\n",
            "\n",
            "\n"
          ],
          "name": "stdout"
        }
      ]
    },
    {
      "cell_type": "code",
      "metadata": {
        "colab": {
          "base_uri": "https://localhost:8080/",
          "height": 487
        },
        "id": "Ng0UNkpVHW6U",
        "outputId": "4690b266-fe92-4953-eec9-a09d0c3e777e"
      },
      "source": [
        "import matplotlib.pyplot as plt\n",
        "\n",
        "worksheet = table.worksheet(\"strength\")\n",
        "rows = worksheet.get_all_values()\n",
        "thr_name = list()\n",
        "thr_importance = list()\n",
        "thr_probability = list()\n",
        "thr_power = list()\n",
        "\n",
        "i = 0\n",
        "for row in rows:\n",
        "  if (i>2):\n",
        "    thr_name.append(row[0])\n",
        "    thr_importance.append(int(row[2]))\n",
        "    thr_probability.append(float(row[3]))\n",
        "    thr_power.append(int(row[2])*float(row[3]))    \n",
        "  i+=1\n",
        "print('\\n', thr_name, thr_importance, thr_probability, thr_power, sep='\\n', end='\\n\\n')\n",
        "\n",
        "cell_list = worksheet.range('E4:E7')\n",
        "i = 0\n",
        "for cell in cell_list:\n",
        "    cell.value = thr_power[i]\n",
        "    i+=1\n",
        "\n",
        "worksheet.update_cells(cell_list)\n",
        "\n",
        "labels = ['1', '2', '3', '4']\n",
        "plt.ylabel(\"Мощность воздействия\")\n",
        "plt.xlabel(\"Обозначения:\")\n",
        "plt.title(\"Sthreats:\")\n",
        "plt.bar(labels, thr_power)\n",
        "plt.grid(axis = 'y', linestyle = '--')\n",
        "plt.show()\n",
        "for i in range(thr_name.__len__()):\n",
        "        print(i+1, \" - \", thr_name[i])\n",
        "        i += 1"
      ],
      "execution_count": null,
      "outputs": [
        {
          "output_type": "stream",
          "text": [
            "\n",
            "\n",
            "['Широкий ассортимент', 'Интернет магазин', 'Доставка', 'Большой стпрос на продукцию']\n",
            "[9, 9, 9, 10]\n",
            "[0.8, 1.0, 0.6, 1.0]\n",
            "[7.2, 9.0, 5.3999999999999995, 10.0]\n",
            "\n"
          ],
          "name": "stdout"
        },
        {
          "output_type": "display_data",
          "data": {
            "image/png": "[encoded data removed]",
            "text/plain": [
              "<Figure size 432x288 with 1 Axes>"
            ]
          },
          "metadata": {
            "tags": [],
            "needs_background": "light"
          }
        },
        {
          "output_type": "stream",
          "text": [
            "1  -  Широкий ассортимент\n",
            "2  -  Интернет магазин\n",
            "3  -  Доставка\n",
            "4  -  Большой стпрос на продукцию\n"
          ],
          "name": "stdout"
        }
      ]
    },
    {
      "cell_type": "code",
      "metadata": {
        "colab": {
          "base_uri": "https://localhost:8080/",
          "height": 487
        },
        "id": "eMHS8KHotJwF",
        "outputId": "20daad6e-0560-456c-e9a9-b2bb999a04ef"
      },
      "source": [
        "worksheet = table.worksheet(\"weakness\")\n",
        "rows = worksheet.get_all_values()\n",
        "thr_name = list()\n",
        "thr_importance = list()\n",
        "thr_probability = list()\n",
        "thr_power = list()\n",
        "\n",
        "i = 0\n",
        "for row in rows:\n",
        "  if (i>2):\n",
        "    thr_name.append(row[0])\n",
        "    thr_importance.append(int(row[2]))\n",
        "    thr_probability.append(float(row[3]))\n",
        "    thr_power.append(int(row[2])*float(row[3]))    \n",
        "  i+=1\n",
        "print('\\n', thr_name, thr_importance, thr_probability, thr_power, sep='\\n', end='\\n\\n')\n",
        "\n",
        "cell_list = worksheet.range('E4:E7')\n",
        "i = 0\n",
        "for cell in cell_list:\n",
        "    cell.value = thr_power[i]\n",
        "    i+=1\n",
        "\n",
        "worksheet.update_cells(cell_list)\n",
        "\n",
        "labels = ['1', '2', '3', '4']\n",
        "plt.ylabel(\"Мощность воздействия\")\n",
        "plt.xlabel(\"Обозначения:\")\n",
        "plt.title(\"Weakness:\")\n",
        "plt.bar(labels, thr_power)\n",
        "plt.grid(axis = 'y', linestyle = '--')\n",
        "plt.show()\n",
        "for i in range(thr_name.__len__()):\n",
        "        print(i+1, \" - \", thr_name[i])\n",
        "        i += 1"
      ],
      "execution_count": null,
      "outputs": [
        {
          "output_type": "stream",
          "text": [
            "\n",
            "\n",
            "['Низкая конкурентоспособность', 'Сложность расширения', 'Бизнес-модель легко копируемая', 'Задержка поставок']\n",
            "[9, 8, 6, 8]\n",
            "[1.0, 0.6, 0.5, 0.5]\n",
            "[9.0, 4.8, 3.0, 4.0]\n",
            "\n"
          ],
          "name": "stdout"
        },
        {
          "output_type": "display_data",
          "data": {
            "image/png": "[encoded data removed]",
            "text/plain": [
              "<Figure size 432x288 with 1 Axes>"
            ]
          },
          "metadata": {
            "tags": [],
            "needs_background": "light"
          }
        },
        {
          "output_type": "stream",
          "text": [
            "1  -  Низкая конкурентоспособность\n",
            "2  -  Сложность расширения\n",
            "3  -  Бизнес-модель легко копируемая\n",
            "4  -  Задержка поставок\n"
          ],
          "name": "stdout"
        }
      ]
    },
    {
      "cell_type": "code",
      "metadata": {
        "colab": {
          "base_uri": "https://localhost:8080/",
          "height": 487
        },
        "id": "jiyqRHgTtQD6",
        "outputId": "62ff1a00-9a3e-4921-8bbf-b0cbd28717e7"
      },
      "source": [
        "worksheet = table.worksheet(\"opportunities\")\n",
        "rows = worksheet.get_all_values()\n",
        "thr_name = list()\n",
        "thr_importance = list()\n",
        "thr_probability = list()\n",
        "thr_power = list()\n",
        "\n",
        "i = 0\n",
        "for row in rows:\n",
        "  if (i>2):\n",
        "    thr_name.append(row[0])\n",
        "    thr_importance.append(int(row[2]))\n",
        "    thr_probability.append(float(row[3]))\n",
        "    thr_power.append(int(row[2])*float(row[3]))    \n",
        "  i+=1\n",
        "print('\\n', thr_name, thr_importance, thr_probability, thr_power, sep='\\n', end='\\n\\n')\n",
        "\n",
        "cell_list = worksheet.range('E4:E7')\n",
        "i = 0\n",
        "for cell in cell_list:\n",
        "    cell.value = thr_power[i]\n",
        "    i+=1\n",
        "\n",
        "worksheet.update_cells(cell_list)\n",
        "\n",
        "labels = ['1', '2', '3', '4']\n",
        "plt.ylabel(\"Мощность воздействия\")\n",
        "plt.xlabel(\"Обозначения:\")\n",
        "plt.title(\"Opportunities:\")\n",
        "plt.bar(labels, thr_power)\n",
        "plt.grid(axis = 'y', linestyle = '--')\n",
        "plt.show()\n",
        "for i in range(thr_name.__len__()):\n",
        "        print(i+1, \" - \", thr_name[i])\n",
        "        i += 1"
      ],
      "execution_count": null,
      "outputs": [
        {
          "output_type": "stream",
          "text": [
            "\n",
            "\n",
            "['Собственный онлайн курс', 'Популяризация здорового образа жизни', 'Лёгкая адаптация к нестабильным рыночным условиям', 'Минимизация величины кредита']\n",
            "[7, 9, 9, 7]\n",
            "[0.9, 1.0, 0.6, 0.6]\n",
            "[6.3, 9.0, 5.3999999999999995, 4.2]\n",
            "\n"
          ],
          "name": "stdout"
        },
        {
          "output_type": "display_data",
          "data": {
            "image/png": "[encoded data removed]",
            "text/plain": [
              "<Figure size 432x288 with 1 Axes>"
            ]
          },
          "metadata": {
            "tags": [],
            "needs_background": "light"
          }
        },
        {
          "output_type": "stream",
          "text": [
            "1  -  Собственный онлайн курс\n",
            "2  -  Популяризация здорового образа жизни\n",
            "3  -  Лёгкая адаптация к нестабильным рыночным условиям\n",
            "4  -  Минимизация величины кредита\n"
          ],
          "name": "stdout"
        }
      ]
    },
    {
      "cell_type": "code",
      "metadata": {
        "colab": {
          "base_uri": "https://localhost:8080/",
          "height": 487
        },
        "id": "AZibondztTAO",
        "outputId": "ddd9ad92-97c0-4241-9ae9-e7f97762de99"
      },
      "source": [
        "worksheet = table.worksheet(\"threats\")\n",
        "rows = worksheet.get_all_values()\n",
        "thr_name = list()\n",
        "thr_importance = list()\n",
        "thr_probability = list()\n",
        "thr_power = list()\n",
        "\n",
        "i = 0\n",
        "for row in rows:\n",
        "  if (i>2):\n",
        "    thr_name.append(row[0])\n",
        "    thr_importance.append(int(row[2]))\n",
        "    thr_probability.append(float(row[3]))\n",
        "    thr_power.append(int(row[2])*float(row[3]))    \n",
        "  i+=1\n",
        "print('\\n', thr_name, thr_importance, thr_probability, thr_power, sep='\\n', end='\\n\\n')\n",
        "\n",
        "cell_list = worksheet.range('E4:E7')\n",
        "i = 0\n",
        "for cell in cell_list:\n",
        "    cell.value = thr_power[i]\n",
        "    i+=1\n",
        "\n",
        "worksheet.update_cells(cell_list)\n",
        "\n",
        "labels = ['1', '2', '3', '4']\n",
        "plt.ylabel(\"Мощность воздействия\")\n",
        "plt.xlabel(\"Обозначения:\")\n",
        "plt.title(\"Threats:\")\n",
        "plt.bar(labels, thr_power)\n",
        "plt.grid(axis = 'y', linestyle = '--')\n",
        "plt.show()\n",
        "for i in range(thr_name.__len__()):\n",
        "        print(i+1, \" - \", thr_name[i])\n",
        "        i += 1"
      ],
      "execution_count": null,
      "outputs": [
        {
          "output_type": "stream",
          "text": [
            "\n",
            "\n",
            "['Санкции', 'Много конкурентов', 'Снижение доходов части клиентов', 'Текучка кадров']\n",
            "[5, 9, 7, 8]\n",
            "[0.1, 0.7, 0.8, 0.6]\n",
            "[0.5, 6.3, 5.6000000000000005, 4.8]\n",
            "\n"
          ],
          "name": "stdout"
        },
        {
          "output_type": "display_data",
          "data": {
            "image/png": "[encoded data removed]",
            "text/plain": [
              "<Figure size 432x288 with 1 Axes>"
            ]
          },
          "metadata": {
            "tags": [],
            "needs_background": "light"
          }
        },
        {
          "output_type": "stream",
          "text": [
            "1  -  Санкции\n",
            "2  -  Много конкурентов\n",
            "3  -  Снижение доходов части клиентов\n",
            "4  -  Текучка кадров\n"
          ],
          "name": "stdout"
        }
      ]
    },
    {
      "cell_type": "code",
      "metadata": {
        "colab": {
          "base_uri": "https://localhost:8080/",
          "height": 571
        },
        "id": "6r-BZ8yEuh_N",
        "outputId": "ef2bd522-e942-49f2-85d2-c2652110a887"
      },
      "source": [
        "table = gs.open_by_key('1ulDATdekYKsp_1Rm2mR9waUSIoPZID43VvYMaCNiFI0')\n",
        "worksheet = table.worksheet(\"Лист1\")\n",
        "rows = worksheet.get_all_values()\n",
        "strengthName = list()\n",
        "strength = [0] * 6\n",
        "s = 0\n",
        "opportunities = [0] * 6\n",
        "opportsName = list()\n",
        "o = 0\n",
        "weakness = [0] * 6\n",
        "weaknessName = list()\n",
        "w = 0\n",
        "threats = [0] * 6\n",
        "threatsName = list()\n",
        "t = 0\n",
        "flag = 'strength'\n",
        "for i in rows:\n",
        "  if i[0] == 'strength':\n",
        "    flag = 'strength'\n",
        "  if i[0] == 'weakness':\n",
        "    flag = 'weakness'\n",
        "  if i[0] == 'opportunities':\n",
        "    flag = 'opportunities'\n",
        "  if i[0] == 'threats':\n",
        "    flag = 'threats'\n",
        "  if flag == 'strength' and i[4] != '' and i[4] != 'power':\n",
        "    strength[s] = i[4]\n",
        "    strengthName.append(i[0])\n",
        "    s = s + 1\n",
        "  if flag == 'opportunities' and i[4] != '' and i[4] != 'power':\n",
        "    opportunities[o] = i[4]\n",
        "    opportsName.append(i[0])\n",
        "    o = o + 1\n",
        "  if flag == 'weakness' and i[4] != '' and i[4] != 'power':\n",
        "    weakness[w] = i[4]\n",
        "    weaknessName.append(i[0])\n",
        "    w = w + 1\n",
        "  if flag == 'threats' and i[4] != '' and i[4] != 'power':\n",
        "    threats[t] = i[4]\n",
        "    threatsName.append(i[0])\n",
        "    t = t + 1\n",
        "streng = 0\n",
        "opport = 0\n",
        "weak = 0\n",
        "threat = 0\n",
        "for i in strength:\n",
        "  streng = streng + float(i)\n",
        "for i in opportunities:\n",
        "  opport = opport + float(i)\n",
        "for i in weakness:\n",
        "  weak = weak + float(i)\n",
        "for i in threats:\n",
        "  threat = threat + float(i)\n",
        "\n",
        "import matplotlib.pyplot as plt\n",
        "\n",
        "x_float=list()\n",
        "title=list()\n",
        "y_float=list()\n",
        "\n",
        "title = [ \"strengths\", \"weaknesses\", \"opportunities\", \"threats\", \"result\"]\n",
        "x_float = [1, 2, 3, 4, 5]\n",
        "result = streng - 1*weak + opport - 1*threat\n",
        "y_float = [streng, -1*weak, opport, -1*threat,  result]\n",
        "x_pos=list()\n",
        "for i in range(x_float.__len__()):\n",
        "    x_pos.append(i)\n",
        "\n",
        "fig=plt.figure(figsize=(8,6), dpi=75)\n",
        "plt.bar(x_pos, y_float, width=0.75, align='edge', alpha=0.9)\n",
        "plt.xticks(x_pos,  x_float, fontsize=14)\n",
        "plt.xlabel('Обозначения', fontsize=14)\n",
        "plt.ylabel('Мощность воздействия', fontsize=14)\n",
        "plt.title('SWOT', fontsize=14)\n",
        "plt.grid(axis = 'y', linestyle = '--')\n",
        "plt.yticks(np.arange(-30, 40, step=5))\n",
        "plt.show()\n",
        "\n",
        "for i in range(name.__len__()):\n",
        "  print(i+1, \" - \", name[i])\n",
        "  i += 1\n",
        "\n",
        "print('\\n')\n",
        "!date\n",
        "\n"
      ],
      "execution_count": null,
      "outputs": [
        {
          "output_type": "display_data",
          "data": {
            "image/png": "[encoded data removed]",
            "text/plain": [
              "<Figure size 600x450 with 1 Axes>"
            ]
          },
          "metadata": {
            "tags": [],
            "needs_background": "light"
          }
        },
        {
          "output_type": "stream",
          "text": [
            "1  -  Strengths\n",
            "2  -  Weaknesses\n",
            "3  -  Opportunities\n",
            "4  -  Threats\n",
            "5  -  Result\n",
            "\n",
            "\n",
            "Tue Jun  8 17:19:14 MSK 2021\n"
          ],
          "name": "stdout"
        }
      ]
    }
  ]
}