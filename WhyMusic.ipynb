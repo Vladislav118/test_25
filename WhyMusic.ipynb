{
  "nbformat": 4,
  "nbformat_minor": 0,
  "metadata": {
    "colab": {
      "name": "Untitled0.ipynb",
      "provenance": [],
      "collapsed_sections": [],
      "authorship_tag": "ABX9TyMUbnbJNb7FK1z07JQdpYSZ",
      "include_colab_link": true
    },
    "kernelspec": {
      "name": "python3",
      "display_name": "Python 3"
    }
  },
  "cells": [
    {
      "cell_type": "markdown",
      "metadata": {
        "id": "view-in-github",
        "colab_type": "text"
      },
      "source": [
        "<a href=\"https://colab.research.google.com/github/Vladislav118/test_25/blob/main/WhyMusic.ipynb\" target=\"_parent\"><img src=\"https://colab.research.google.com/assets/colab-badge.svg\" alt=\"Open In Colab\"/></a>"
      ]
    },
    {
      "cell_type": "code",
      "metadata": {
        "colab": {
          "base_uri": "https://localhost:8080/"
        },
        "id": "_VEE2yKiyiC6",
        "outputId": "356a6859-530d-4c71-89a6-d59e981774d6"
      },
      "source": [
        "print(\"Группа: 20БИ-3\")\r\n",
        "print(\"ФИО: Расчупкин Владислав Ярославович\")\r\n",
        "!ln -fs /usr/share/zoneinfo/Europe/Moscow /etc/localtime\r\n",
        "!date"
      ],
      "execution_count": null,
      "outputs": [
        {
          "output_type": "stream",
          "text": [
            "Группа: 20БИ-3\n",
            "ФИО: Расчупкин Владислав Ярославович\n",
            "Wed Mar  3 21:49:18 MSK 2021\n"
          ],
          "name": "stdout"
        }
      ]
    },
    {
      "cell_type": "code",
      "metadata": {
        "id": "fO-2LBQ31py5",
        "colab": {
          "base_uri": "https://localhost:8080/"
        },
        "outputId": "213980b3-9f9c-460d-a8bf-b4057af6c6b1"
      },
      "source": [
        "!pip install --upgrade gspread\r\n",
        "import gspread\r\n",
        "from google.colab import drive\r\n",
        "drive.mount('/content/drive')\r\n",
        "import os\r\n",
        "print(os.getcwd())\r\n",
        "print(os.listdir('./'))\r\n",
        "print(os.listdir('/content/drive'))\r\n",
        "print(os.listdir('/content/drive/MyDrive/Colab Notebooks/swot'))"
      ],
      "execution_count": null,
      "outputs": [
        {
          "output_type": "stream",
          "text": [
            "Requirement already up-to-date: gspread in /usr/local/lib/python3.7/dist-packages (3.7.0)\n",
            "Requirement already satisfied, skipping upgrade: google-auth>=1.12.0 in /usr/local/lib/python3.7/dist-packages (from gspread) (1.27.0)\n",
            "Requirement already satisfied, skipping upgrade: google-auth-oauthlib>=0.4.1 in /usr/local/lib/python3.7/dist-packages (from gspread) (0.4.2)\n",
            "Requirement already satisfied, skipping upgrade: rsa<5,>=3.1.4; python_version >= \"3.6\" in /usr/local/lib/python3.7/dist-packages (from google-auth>=1.12.0->gspread) (4.7.2)\n",
            "Requirement already satisfied, skipping upgrade: six>=1.9.0 in /usr/local/lib/python3.7/dist-packages (from google-auth>=1.12.0->gspread) (1.15.0)\n",
            "Requirement already satisfied, skipping upgrade: setuptools>=40.3.0 in /usr/local/lib/python3.7/dist-packages (from google-auth>=1.12.0->gspread) (54.0.0)\n",
            "Requirement already satisfied, skipping upgrade: pyasn1-modules>=0.2.1 in /usr/local/lib/python3.7/dist-packages (from google-auth>=1.12.0->gspread) (0.2.8)\n",
            "Requirement already satisfied, skipping upgrade: cachetools<5.0,>=2.0.0 in /usr/local/lib/python3.7/dist-packages (from google-auth>=1.12.0->gspread) (4.2.1)\n",
            "Requirement already satisfied, skipping upgrade: requests-oauthlib>=0.7.0 in /usr/local/lib/python3.7/dist-packages (from google-auth-oauthlib>=0.4.1->gspread) (1.3.0)\n",
            "Requirement already satisfied, skipping upgrade: pyasn1>=0.1.3 in /usr/local/lib/python3.7/dist-packages (from rsa<5,>=3.1.4; python_version >= \"3.6\"->google-auth>=1.12.0->gspread) (0.4.8)\n",
            "Requirement already satisfied, skipping upgrade: requests>=2.0.0 in /usr/local/lib/python3.7/dist-packages (from requests-oauthlib>=0.7.0->google-auth-oauthlib>=0.4.1->gspread) (2.23.0)\n",
            "Requirement already satisfied, skipping upgrade: oauthlib>=3.0.0 in /usr/local/lib/python3.7/dist-packages (from requests-oauthlib>=0.7.0->google-auth-oauthlib>=0.4.1->gspread) (3.1.0)\n",
            "Requirement already satisfied, skipping upgrade: certifi>=2017.4.17 in /usr/local/lib/python3.7/dist-packages (from requests>=2.0.0->requests-oauthlib>=0.7.0->google-auth-oauthlib>=0.4.1->gspread) (2020.12.5)\n",
            "Requirement already satisfied, skipping upgrade: idna<3,>=2.5 in /usr/local/lib/python3.7/dist-packages (from requests>=2.0.0->requests-oauthlib>=0.7.0->google-auth-oauthlib>=0.4.1->gspread) (2.10)\n",
            "Requirement already satisfied, skipping upgrade: chardet<4,>=3.0.2 in /usr/local/lib/python3.7/dist-packages (from requests>=2.0.0->requests-oauthlib>=0.7.0->google-auth-oauthlib>=0.4.1->gspread) (3.0.4)\n",
            "Requirement already satisfied, skipping upgrade: urllib3!=1.25.0,!=1.25.1,<1.26,>=1.21.1 in /usr/local/lib/python3.7/dist-packages (from requests>=2.0.0->requests-oauthlib>=0.7.0->google-auth-oauthlib>=0.4.1->gspread) (1.24.3)\n",
            "Drive already mounted at /content/drive; to attempt to forcibly remount, call drive.mount(\"/content/drive\", force_remount=True).\n",
            "/content\n",
            "['.config', 'drive', 'adc.json', 'sample_data']\n",
            "['MyDrive', '.shortcut-targets-by-id', '.file-revisions-by-id', '.Trash']\n",
            "['WhyMusic.gsheet']\n"
          ],
          "name": "stdout"
        }
      ]
    },
    {
      "cell_type": "code",
      "metadata": {
        "colab": {
          "base_uri": "https://localhost:8080/",
          "height": 693
        },
        "id": "al3Q1OCjo4ul",
        "outputId": "23e09e3f-156c-4805-fa6c-6db1b8155b51"
      },
      "source": [
        "import os\r\n",
        "import time\r\n",
        "from google.colab import auth\r\n",
        "auth.authenticate_user()\r\n",
        "!pip install --upgrade gspread\r\n",
        "import gspread\r\n",
        "from oauth2client.client import GoogleCredentials\r\n",
        "print('\\nРаботаем с таблицей')\r\n",
        "%ll -lAF /content/drive/MyDrive/\"Colab Notebooks\"/swot/\r\n",
        "gs = gspread.authorize(GoogleCredentials.get_application_default())\r\n",
        "os.stat('/content/drive/MyDrive/Colab Notebooks/swot/WhyMusic.gsheet')\r\n",
        "table = gs.open_by_key('1dRFTRj9vWIJmrmJCUoP3rsfy7aC3KV45zeQ9nhxWpUk')\r\n",
        "print(dir(table))\r\n",
        "worksheet = table.worksheet('list1')\r\n",
        "rows = worksheet.get_all_values()\r\n",
        "print(rows)\r\n",
        "strength = [0] * 6\r\n",
        "s = 0\r\n",
        "opportunities = [0] * 6\r\n",
        "o = 0\r\n",
        "weakness = [0] * 6\r\n",
        "w = 0\r\n",
        "threats = [0] * 6\r\n",
        "t = 0\r\n",
        "flag = 'strength'\r\n",
        "for i in rows:\r\n",
        "  if i[0] == 'strength':\r\n",
        "    flag = 'strength'\r\n",
        "  if i[0] == 'weakness':\r\n",
        "    flag = 'weakness'\r\n",
        "  if i[0] == 'opportunities':\r\n",
        "    flag = 'opportunities'\r\n",
        "  if i[0] == 'threats':\r\n",
        "    flag = 'threats'\r\n",
        "  if flag == 'strength' and i[4] != '' and i[4] != 'power':\r\n",
        "    strength[s] = i[4]\r\n",
        "    s = s + 1\r\n",
        "  if flag == 'opportunities' and i[4] != '' and i[4] != 'power':\r\n",
        "    opportunities[o] = i[4]\r\n",
        "    o = o + 1\r\n",
        "  if flag == 'weakness' and i[4] != '' and i[4] != 'power':\r\n",
        "    weakness[w] = i[4]\r\n",
        "    w = w + 1\r\n",
        "  if flag == 'threats' and i[4] != '' and i[4] != 'power':\r\n",
        "    threats[t] = i[4]\r\n",
        "    t = t + 1\r\n",
        "print(strength)\r\n",
        "print(opportunities)\r\n",
        "print(weakness)\r\n",
        "print(threats)\r\n",
        "streng = 0\r\n",
        "opport = 0\r\n",
        "weak = 0\r\n",
        "threat = 0\r\n",
        "for i in strength:\r\n",
        "  streng = streng + float(i)\r\n",
        "for i in opportunities:\r\n",
        "  opport = opport + float(i)\r\n",
        "for i in weakness:\r\n",
        "  weak = weak + float(i)\r\n",
        "for i in threats:\r\n",
        "  threat = threat + float(i)\r\n",
        "worksheet.update('A43', 'strength ' + str(streng))\r\n",
        "worksheet.update('B43', 'weakness ' + str(weak))\r\n",
        "worksheet.update('C43', 'opportunities ' + str(opport))\r\n",
        "worksheet.update('D43', 'threats ' + str(threat))\r\n",
        "worksheet.update('A44', 'sum power ' + str(streng + opport - weak - threat))\r\n",
        "probab = (streng + opport) / (streng + opport + weak + threat)\r\n",
        "worksheet.update('B44', 'probability of good result ' + str(probab))"
      ],
      "execution_count": 49,
      "outputs": [
        {
          "output_type": "stream",
          "text": [
            "Requirement already up-to-date: gspread in /usr/local/lib/python3.7/dist-packages (3.7.0)\n",
            "Requirement already satisfied, skipping upgrade: google-auth-oauthlib>=0.4.1 in /usr/local/lib/python3.7/dist-packages (from gspread) (0.4.2)\n",
            "Requirement already satisfied, skipping upgrade: google-auth>=1.12.0 in /usr/local/lib/python3.7/dist-packages (from gspread) (1.27.0)\n",
            "Requirement already satisfied, skipping upgrade: requests-oauthlib>=0.7.0 in /usr/local/lib/python3.7/dist-packages (from google-auth-oauthlib>=0.4.1->gspread) (1.3.0)\n",
            "Requirement already satisfied, skipping upgrade: rsa<5,>=3.1.4; python_version >= \"3.6\" in /usr/local/lib/python3.7/dist-packages (from google-auth>=1.12.0->gspread) (4.7.2)\n",
            "Requirement already satisfied, skipping upgrade: cachetools<5.0,>=2.0.0 in /usr/local/lib/python3.7/dist-packages (from google-auth>=1.12.0->gspread) (4.2.1)\n",
            "Requirement already satisfied, skipping upgrade: six>=1.9.0 in /usr/local/lib/python3.7/dist-packages (from google-auth>=1.12.0->gspread) (1.15.0)\n",
            "Requirement already satisfied, skipping upgrade: setuptools>=40.3.0 in /usr/local/lib/python3.7/dist-packages (from google-auth>=1.12.0->gspread) (54.0.0)\n",
            "Requirement already satisfied, skipping upgrade: pyasn1-modules>=0.2.1 in /usr/local/lib/python3.7/dist-packages (from google-auth>=1.12.0->gspread) (0.2.8)\n",
            "Requirement already satisfied, skipping upgrade: oauthlib>=3.0.0 in /usr/local/lib/python3.7/dist-packages (from requests-oauthlib>=0.7.0->google-auth-oauthlib>=0.4.1->gspread) (3.1.0)\n",
            "Requirement already satisfied, skipping upgrade: requests>=2.0.0 in /usr/local/lib/python3.7/dist-packages (from requests-oauthlib>=0.7.0->google-auth-oauthlib>=0.4.1->gspread) (2.23.0)\n",
            "Requirement already satisfied, skipping upgrade: pyasn1>=0.1.3 in /usr/local/lib/python3.7/dist-packages (from rsa<5,>=3.1.4; python_version >= \"3.6\"->google-auth>=1.12.0->gspread) (0.4.8)\n",
            "Requirement already satisfied, skipping upgrade: urllib3!=1.25.0,!=1.25.1,<1.26,>=1.21.1 in /usr/local/lib/python3.7/dist-packages (from requests>=2.0.0->requests-oauthlib>=0.7.0->google-auth-oauthlib>=0.4.1->gspread) (1.24.3)\n",
            "Requirement already satisfied, skipping upgrade: chardet<4,>=3.0.2 in /usr/local/lib/python3.7/dist-packages (from requests>=2.0.0->requests-oauthlib>=0.7.0->google-auth-oauthlib>=0.4.1->gspread) (3.0.4)\n",
            "Requirement already satisfied, skipping upgrade: idna<3,>=2.5 in /usr/local/lib/python3.7/dist-packages (from requests>=2.0.0->requests-oauthlib>=0.7.0->google-auth-oauthlib>=0.4.1->gspread) (2.10)\n",
            "Requirement already satisfied, skipping upgrade: certifi>=2017.4.17 in /usr/local/lib/python3.7/dist-packages (from requests>=2.0.0->requests-oauthlib>=0.7.0->google-auth-oauthlib>=0.4.1->gspread) (2020.12.5)\n",
            "\n",
            "Работаем с таблицей\n",
            "total 13\n",
            "-rw------- 1 root 12367 Mar  3 22:16 matplot_bar_swot.png\n",
            "-rw------- 1 root   151 Mar  3 22:14 WhyMusic.gsheet\n",
            "['__class__', '__delattr__', '__dict__', '__dir__', '__doc__', '__eq__', '__format__', '__ge__', '__getattribute__', '__gt__', '__hash__', '__init__', '__init_subclass__', '__iter__', '__le__', '__lt__', '__module__', '__ne__', '__new__', '__reduce__', '__reduce_ex__', '__repr__', '__setattr__', '__sizeof__', '__str__', '__subclasshook__', '__weakref__', '_properties', 'add_worksheet', 'batch_update', 'client', 'del_worksheet', 'fetch_sheet_metadata', 'get_worksheet', 'id', 'list_permissions', 'remove_permissions', 'share', 'sheet1', 'title', 'updated', 'values_append', 'values_clear', 'values_get', 'values_update', 'worksheet', 'worksheets']\n",
            "[['', 'Магазин музыкальных инструментов \"WhyMusic\"', '', '', ''], ['', '', '', '', ''], ['strength', '', '', '', ''], ['name', 'actions', 'importance', 'probability', 'power'], ['Сравнительно большой выбор товаров и спектр услуг\\r', '', '9', '0.8', '7.2'], ['Возможность заказа', '', '8', '0.7', '5.6'], ['Наличие эксклюзивных товаров\\r', '', '9', '0.4', '3.6'], ['Наличие знаний в требуемой области\\r', '', '7', '0.7', '4.9'], ['Знание рынка \\r', '', '8', '0.6', '4.8'], ['Прямое сотрудничество с производителями без поставщиков', '', '7', '0.4', '2.8'], ['', '', '', '', ''], ['', '', '', '', ''], ['weakness', '', '', '', ''], ['name', 'actions', 'importance', 'probability', 'power'], ['Необходимость больших затрат на рекламу \\r', '', '7', '0.5', '3.5'], ['Необходимость аренды помещения\\r', '', '6', '0.6', '3.6'], ['В наличии может не оказаться требуемого товара', '', '7', '0.4', '2.8'], ['Необходимость преобрести продукцию', '', '7', '0.6', '4.2'], ['Малое число вовлеченной аудитории', '', '5', '0.5', '2.5'], ['высокий уровень цен', '', '4', '0.4', '1.6'], ['', '', '', '', ''], ['', '', '', '', ''], ['opportunities', '', '', '', ''], ['name', 'actions', 'importance', 'probability', 'power'], ['представить инструменты в премиум сегменте', '', '6', '0.7', '4.2'], ['проведение тренингов', '', '7', '0.8', '5.6'], ['создание веб сайта', '', '6', '0.9', '5.4'], ['квалификация персонала', '', '8', '0.7', '5.6'], ['добавление в точках продаж статистику проданных товаров', '', '3', '0.8', '2.4'], ['выдача вуачеров , а так же накопительные и скидочные карты', '', '4', '0.9', '3.6'], ['', '', '', '', ''], ['', '', '', '', ''], ['threats', '', '', '', ''], ['name', 'actions', 'importance', 'probability', 'power'], ['Отсутсвие важных частей инструмента', '', '5', '0.5', '2.5'], ['Отсутсвие заинтересованности продовца в пакупателе', '', '7', '0.6', '4.2'], ['Конкуренция', '', '6', '0.2', '1.2'], ['Относительно небольшие барьеры вступления на рынок ', '', '4', '0.3', '1.2'], ['Повышение цен на продукцию', '', '3', '0.4', '1.2'], ['закрытые границы(отсутвие ввоза нового товара)', '', '6', '0.4', '2.4']]\n",
            "['7.2', '5.6', '3.6', '4.9', '4.8', '2.8']\n",
            "['4.2', '5.6', '5.4', '5.6', '2.4', '3.6']\n",
            "['3.5', '3.6', '2.8', '4.2', '2.5', '1.6']\n",
            "['2.5', '4.2', '1.2', '1.2', '1.2', '2.4']\n"
          ],
          "name": "stdout"
        },
        {
          "output_type": "error",
          "ename": "AttributeError",
          "evalue": "ignored",
          "traceback": [
            "\u001b[0;31m---------------------------------------------------------------------------\u001b[0m",
            "\u001b[0;31mAttributeError\u001b[0m                            Traceback (most recent call last)",
            "\u001b[0;32m<ipython-input-49-aa5dab7fe8d2>\u001b[0m in \u001b[0;36m<module>\u001b[0;34m()\u001b[0m\n\u001b[1;32m     61\u001b[0m \u001b[0;32mfor\u001b[0m \u001b[0mi\u001b[0m \u001b[0;32min\u001b[0m \u001b[0mthreats\u001b[0m\u001b[0;34m:\u001b[0m\u001b[0;34m\u001b[0m\u001b[0;34m\u001b[0m\u001b[0m\n\u001b[1;32m     62\u001b[0m   \u001b[0mthreat\u001b[0m \u001b[0;34m=\u001b[0m \u001b[0mthreat\u001b[0m \u001b[0;34m+\u001b[0m \u001b[0mfloat\u001b[0m\u001b[0;34m(\u001b[0m\u001b[0mi\u001b[0m\u001b[0;34m)\u001b[0m\u001b[0;34m\u001b[0m\u001b[0;34m\u001b[0m\u001b[0m\n\u001b[0;32m---> 63\u001b[0;31m \u001b[0mworksheet\u001b[0m\u001b[0;34m.\u001b[0m\u001b[0mupdate\u001b[0m\u001b[0;34m(\u001b[0m\u001b[0;34m'A43'\u001b[0m\u001b[0;34m,\u001b[0m \u001b[0;34m'strength '\u001b[0m \u001b[0;34m+\u001b[0m \u001b[0mstr\u001b[0m\u001b[0;34m(\u001b[0m\u001b[0mstreng\u001b[0m\u001b[0;34m)\u001b[0m\u001b[0;34m)\u001b[0m\u001b[0;34m\u001b[0m\u001b[0;34m\u001b[0m\u001b[0m\n\u001b[0m\u001b[1;32m     64\u001b[0m \u001b[0mworksheet\u001b[0m\u001b[0;34m.\u001b[0m\u001b[0mupdate\u001b[0m\u001b[0;34m(\u001b[0m\u001b[0;34m'B43'\u001b[0m\u001b[0;34m,\u001b[0m \u001b[0;34m'weakness '\u001b[0m \u001b[0;34m+\u001b[0m \u001b[0mstr\u001b[0m\u001b[0;34m(\u001b[0m\u001b[0mweak\u001b[0m\u001b[0;34m)\u001b[0m\u001b[0;34m)\u001b[0m\u001b[0;34m\u001b[0m\u001b[0;34m\u001b[0m\u001b[0m\n\u001b[1;32m     65\u001b[0m \u001b[0mworksheet\u001b[0m\u001b[0;34m.\u001b[0m\u001b[0mupdate\u001b[0m\u001b[0;34m(\u001b[0m\u001b[0;34m'C43'\u001b[0m\u001b[0;34m,\u001b[0m \u001b[0;34m'opportunities '\u001b[0m \u001b[0;34m+\u001b[0m \u001b[0mstr\u001b[0m\u001b[0;34m(\u001b[0m\u001b[0mopport\u001b[0m\u001b[0;34m)\u001b[0m\u001b[0;34m)\u001b[0m\u001b[0;34m\u001b[0m\u001b[0;34m\u001b[0m\u001b[0m\n",
            "\u001b[0;31mAttributeError\u001b[0m: 'Worksheet' object has no attribute 'update'"
          ]
        }
      ]
    },
    {
      "cell_type": "code",
      "metadata": {
        "colab": {
          "base_uri": "https://localhost:8080/",
          "height": 1000
        },
        "id": "_KJ56v_NcYo7",
        "outputId": "12499354-6ec5-45e3-b9ce-11c5975b2a90"
      },
      "source": [
        "import os\r\n",
        "import time\r\n",
        "from google.colab import auth\r\n",
        "auth.authenticate_user()\r\n",
        "!pip install --upgrade gspread\r\n",
        "import gspread\r\n",
        "from oauth2client.client import GoogleCredentials\r\n",
        "print('\\nРаботаем с таблицей')\r\n",
        "%ll -lAF /content/drive/MyDrive/\"Colab Notebooks\"/fold/\r\n",
        "gs = gspread.authorize(GoogleCredentials.get_application_default())\r\n",
        "os.stat('/content/drive/MyDrive/Colab Notebooks/swot/WhyMusic.gsheet')\r\n",
        "table = gs.open_by_key('1dRFTRj9vWIJmrmJCUoP3rsfy7aC3KV45zeQ9nhxWpUk')\r\n",
        "worksheet = table.worksheet('list1')\r\n",
        "rows = worksheet.get_all_values()\r\n",
        "print(rows)\r\n",
        "strength = [0] * 6\r\n",
        "s = 0\r\n",
        "opportunities = [0] * 6\r\n",
        "o = 0\r\n",
        "weakness = [0] * 6\r\n",
        "w = 0\r\n",
        "threats = [0] * 6\r\n",
        "t = 0\r\n",
        "flag = 'strength'\r\n",
        "for i in rows:\r\n",
        "  if i[0] == 'strength':\r\n",
        "    flag = 'strength'\r\n",
        "  if i[0] == 'weakness':\r\n",
        "    flag = 'weakness'\r\n",
        "  if i[0] == 'opportunities':\r\n",
        "    flag = 'opportunities'\r\n",
        "  if i[0] == 'threats':\r\n",
        "    flag = 'threats'\r\n",
        "  if flag == 'strength' and i[4] != '' and i[4] != 'power':\r\n",
        "    strength[s] = i[4]\r\n",
        "    s = s + 1\r\n",
        "  if flag == 'opportunities' and i[4] != '' and i[4] != 'power':\r\n",
        "    opportunities[o] = i[4]\r\n",
        "    o = o + 1\r\n",
        "  if flag == 'weakness' and i[4] != '' and i[4] != 'power':\r\n",
        "    weakness[w] = i[4]\r\n",
        "    w = w + 1\r\n",
        "  if flag == 'threats' and i[4] != '' and i[4] != 'power':\r\n",
        "    threats[t] = i[4]\r\n",
        "    t = t + 1\r\n",
        "streng = 0\r\n",
        "opport = 0\r\n",
        "weak = 0\r\n",
        "threat = 0\r\n",
        "for i in strength:\r\n",
        "  streng = streng + float(i)\r\n",
        "for i in opportunities:\r\n",
        "  opport = opport + float(i)\r\n",
        "for i in weakness:\r\n",
        "  weak = weak + float(i)\r\n",
        "for i in threats:\r\n",
        "  threat = threat + float(i)\r\n",
        "\r\n",
        "import matplotlib.pyplot as plt\r\n",
        "x=list()\r\n",
        "x_float=list()\r\n",
        "title=list()\r\n",
        "y_float=list()\r\n",
        "    \r\n",
        "title = [ \"strengths\", \"weaknesses\", \"opportunities\", \"threats\", \"result\"]\r\n",
        "x=title\r\n",
        "x_float = [1, 2, 3, 4, 5]\r\n",
        "result = streng - 1*weak + opport - 1*threat\r\n",
        "y = [streng, weak, opport, threat]\r\n",
        "y_float = [streng, -1*weak, opport, -1*threat,  result]\r\n",
        "print(x_float,title,y_float)\r\n",
        "print('списки формированы-->\\n')\r\n",
        "x_pos=list()\r\n",
        "for i in range(x_float.__len__()):\r\n",
        "    x_pos.append(i)\r\n",
        "print('<!--разбивка по абсцисс и значения ординат\\n', len( x_float), x_pos, y_float, ' -->\\n')\r\n",
        "\r\n",
        "fig=plt.figure(figsize=(8,6), dpi=72)\r\n",
        "plt.bar(x_pos, y_float, width=0.75, align='edge', alpha=0.4)\r\n",
        "plt.xticks(x_pos,  x_float, fontsize=14)\r\n",
        "plt.xlabel('Обозначения1', fontsize=14)\r\n",
        "plt.ylabel('Мощность воздействия', fontsize=14)\r\n",
        "plt.title('SWOT', fontsize=14)\r\n",
        "plt.grid(True, color='r', linestyle='-', linewidth=2)\r\n",
        "#plt.draw()\r\n",
        "plt.show()\r\n",
        "fig.savefig(\"/content/drive/MyDrive/Colab Notebooks/swot/matplot_bar_swot.png\")\r\n",
        "print('<div class=\"d-flex flex-row \">')\r\n",
        "print('<div class=\"card m-1\" style=\"width: 28rem;\">',\r\n",
        "      '<img  src=\"/content/drive/MyDrive/Colab Notebooks/foldr/matplot_bar_swot.png\" class=\"card-img-top\" alt=\"...\">',\r\n",
        "      '<div class=\"card-body\">')\r\n",
        "    \r\n",
        "for i in range(title.__len__()):\r\n",
        "    print(i+1, \" - \", title[i], \"; \")\r\n",
        "    i += 1\r\n",
        "print('</div>', '</div>')\r\n",
        "print('<div>')"
      ],
      "execution_count": 47,
      "outputs": [
        {
          "output_type": "stream",
          "text": [
            "Requirement already up-to-date: gspread in /usr/local/lib/python3.7/dist-packages (3.7.0)\n",
            "Requirement already satisfied, skipping upgrade: google-auth-oauthlib>=0.4.1 in /usr/local/lib/python3.7/dist-packages (from gspread) (0.4.2)\n",
            "Requirement already satisfied, skipping upgrade: google-auth>=1.12.0 in /usr/local/lib/python3.7/dist-packages (from gspread) (1.27.0)\n",
            "Requirement already satisfied, skipping upgrade: requests-oauthlib>=0.7.0 in /usr/local/lib/python3.7/dist-packages (from google-auth-oauthlib>=0.4.1->gspread) (1.3.0)\n",
            "Requirement already satisfied, skipping upgrade: rsa<5,>=3.1.4; python_version >= \"3.6\" in /usr/local/lib/python3.7/dist-packages (from google-auth>=1.12.0->gspread) (4.7.2)\n",
            "Requirement already satisfied, skipping upgrade: six>=1.9.0 in /usr/local/lib/python3.7/dist-packages (from google-auth>=1.12.0->gspread) (1.15.0)\n",
            "Requirement already satisfied, skipping upgrade: pyasn1-modules>=0.2.1 in /usr/local/lib/python3.7/dist-packages (from google-auth>=1.12.0->gspread) (0.2.8)\n",
            "Requirement already satisfied, skipping upgrade: cachetools<5.0,>=2.0.0 in /usr/local/lib/python3.7/dist-packages (from google-auth>=1.12.0->gspread) (4.2.1)\n",
            "Requirement already satisfied, skipping upgrade: setuptools>=40.3.0 in /usr/local/lib/python3.7/dist-packages (from google-auth>=1.12.0->gspread) (54.0.0)\n",
            "Requirement already satisfied, skipping upgrade: oauthlib>=3.0.0 in /usr/local/lib/python3.7/dist-packages (from requests-oauthlib>=0.7.0->google-auth-oauthlib>=0.4.1->gspread) (3.1.0)\n",
            "Requirement already satisfied, skipping upgrade: requests>=2.0.0 in /usr/local/lib/python3.7/dist-packages (from requests-oauthlib>=0.7.0->google-auth-oauthlib>=0.4.1->gspread) (2.23.0)\n",
            "Requirement already satisfied, skipping upgrade: pyasn1>=0.1.3 in /usr/local/lib/python3.7/dist-packages (from rsa<5,>=3.1.4; python_version >= \"3.6\"->google-auth>=1.12.0->gspread) (0.4.8)\n",
            "Requirement already satisfied, skipping upgrade: urllib3!=1.25.0,!=1.25.1,<1.26,>=1.21.1 in /usr/local/lib/python3.7/dist-packages (from requests>=2.0.0->requests-oauthlib>=0.7.0->google-auth-oauthlib>=0.4.1->gspread) (1.24.3)\n",
            "Requirement already satisfied, skipping upgrade: chardet<4,>=3.0.2 in /usr/local/lib/python3.7/dist-packages (from requests>=2.0.0->requests-oauthlib>=0.7.0->google-auth-oauthlib>=0.4.1->gspread) (3.0.4)\n",
            "Requirement already satisfied, skipping upgrade: idna<3,>=2.5 in /usr/local/lib/python3.7/dist-packages (from requests>=2.0.0->requests-oauthlib>=0.7.0->google-auth-oauthlib>=0.4.1->gspread) (2.10)\n",
            "Requirement already satisfied, skipping upgrade: certifi>=2017.4.17 in /usr/local/lib/python3.7/dist-packages (from requests>=2.0.0->requests-oauthlib>=0.7.0->google-auth-oauthlib>=0.4.1->gspread) (2020.12.5)\n",
            "\n",
            "Работаем с таблицей\n",
            "ls: cannot access '/content/drive/MyDrive/Colab Notebooks/fold/': No such file or directory\n",
            "[['', 'Магазин музыкальных инструментов \"WhyMusic\"', '', '', ''], ['', '', '', '', ''], ['strength', '', '', '', ''], ['name', 'actions', 'importance', 'probability', 'power'], ['Сравнительно большой выбор товаров и спектр услуг\\r', '', '9', '0.8', '7.2'], ['Возможность заказа', '', '8', '0.7', '5.6'], ['Наличие эксклюзивных товаров\\r', '', '9', '0.4', '3.6'], ['Наличие знаний в требуемой области\\r', '', '7', '0.7', '4.9'], ['Знание рынка \\r', '', '8', '0.6', '4.8'], ['Прямое сотрудничество с производителями без поставщиков', '', '7', '0.4', '2.8'], ['', '', '', '', ''], ['', '', '', '', ''], ['weakness', '', '', '', ''], ['name', 'actions', 'importance', 'probability', 'power'], ['Необходимость больших затрат на рекламу \\r', '', '7', '0.5', '3.5'], ['Необходимость аренды помещения\\r', '', '6', '0.6', '3.6'], ['В наличии может не оказаться требуемого товара', '', '7', '0.4', '2.8'], ['Необходимость преобрести продукцию', '', '7', '0.6', '4.2'], ['Малое число вовлеченной аудитории', '', '5', '0.5', '2.5'], ['высокий уровень цен', '', '4', '0.4', '1.6'], ['', '', '', '', ''], ['', '', '', '', ''], ['opportunities', '', '', '', ''], ['name', 'actions', 'importance', 'probability', 'power'], ['представить инструменты в премиум сегменте', '', '6', '0.7', '4.2'], ['проведение тренингов', '', '7', '0.8', '5.6'], ['создание веб сайта', '', '6', '0.9', '5.4'], ['квалификация персонала', '', '8', '0.7', '5.6'], ['добавление в точках продаж статистику проданных товаров', '', '3', '0.8', '2.4'], ['выдача вуачеров , а так же накопительные и скидочные карты', '', '4', '0.9', '3.6'], ['', '', '', '', ''], ['', '', '', '', ''], ['threats', '', '', '', ''], ['name', 'actions', 'importance', 'probability', 'power'], ['Отсутсвие важных частей инструмента', '', '5', '0.5', '2.5'], ['Отсутсвие заинтересованности продовца в пакупателе', '', '7', '0.6', '4.2'], ['Конкуренция', '', '6', '0.2', '1.2'], ['Относительно небольшие барьеры вступления на рынок ', '', '4', '0.3', '1.2'], ['Повышение цен на продукцию', '', '3', '0.4', '1.2'], ['закрытые границы(отсутвие ввоза нового товара)', '', '6', '0.4', '2.4']]\n",
            "[1, 2, 3, 4, 5] ['strengths', 'weaknesses', 'opportunities', 'threats', 'result'] [28.900000000000006, -18.2, 26.8, -12.7, 24.800000000000008]\n",
            "списки формированы-->\n",
            "\n",
            "<!--разбивка по абсцисс и значения ординат\n",
            " 5 [0, 1, 2, 3, 4] [28.900000000000006, -18.2, 26.8, -12.7, 24.800000000000008]  -->\n",
            "\n"
          ],
          "name": "stdout"
        },
        {
          "output_type": "display_data",
          "data": {
            "image/png": "[encoded data removed]",
            "text/plain": [
              "<Figure size 576x432 with 1 Axes>"
            ]
          },
          "metadata": {
            "tags": [],
            "needs_background": "light"
          }
        },
        {
          "output_type": "stream",
          "text": [
            "<div class=\"d-flex flex-row \">\n",
            "<div class=\"card m-1\" style=\"width: 28rem;\"> <img  src=\"/content/drive/MyDrive/Colab Notebooks/foldr/matplot_bar_swot.png\" class=\"card-img-top\" alt=\"...\"> <div class=\"card-body\">\n",
            "1  -  strengths ; \n",
            "2  -  weaknesses ; \n",
            "3  -  opportunities ; \n",
            "4  -  threats ; \n",
            "5  -  result ; \n",
            "</div> </div>\n",
            "<div>\n"
          ],
          "name": "stdout"
        }
      ]
    }
  ]
}