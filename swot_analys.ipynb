{
  "nbformat": 4,
  "nbformat_minor": 0,
  "metadata": {
    "colab": {
      "name": "swot_analys.ipynb",
      "provenance": [],
      "collapsed_sections": [],
      "include_colab_link": true
    },
    "kernelspec": {
      "name": "python3",
      "display_name": "Python 3"
    }
  },
  "cells": [
    {
      "cell_type": "markdown",
      "metadata": {
        "id": "view-in-github",
        "colab_type": "text"
      },
      "source": [
        "<a href=\"https://colab.research.google.com/github/Vladislav118/test_25/blob/main/swot_analys.ipynb\" target=\"_parent\"><img src=\"https://colab.research.google.com/assets/colab-badge.svg\" alt=\"Open In Colab\"/></a>"
      ]
    },
    {
      "cell_type": "code",
      "metadata": {
        "colab": {
          "base_uri": "https://localhost:8080/"
        },
        "id": "wwJmVddhc00_",
        "outputId": "cdbff262-4a4c-4f8a-d910-009b35b84e12"
      },
      "source": [
        "print('Группа: 20БИ-3')\r\n",
        "print('ФИО: Франк Кирилл Константинович')\r\n",
        "!ln -fs /usr/share/zoneinfo/Europe/Moscow /etc/localtime\r\n",
        "!date"
      ],
      "execution_count": null,
      "outputs": [
        {
          "output_type": "stream",
          "text": [
            "Группа: 20БИ-3\n",
            "ФИО: Франк Кирилл Константинович\n",
            "Wed Mar  3 16:22:13 MSK 2021\n"
          ],
          "name": "stdout"
        }
      ]
    },
    {
      "cell_type": "code",
      "metadata": {
        "colab": {
          "base_uri": "https://localhost:8080/"
        },
        "id": "GkiUg04ig6wM",
        "outputId": "cf2744aa-e0f1-4f4e-e242-2cacbbba46d3"
      },
      "source": [
        "from google.colab import drive\r\n",
        "drive.mount('/content/drive/')\r\n",
        "import os\r\n",
        "print(os.getcwd())\r\n",
        "print(os.listdir('./'))\r\n",
        "print(os.listdir('/content/drive'))\r\n",
        "print(os.listdir('/content/drive/MyDrive/Colab Notebooks/fold'))"
      ],
      "execution_count": null,
      "outputs": [
        {
          "output_type": "stream",
          "text": [
            "Drive already mounted at /content/drive/; to attempt to forcibly remount, call drive.mount(\"/content/drive/\", force_remount=True).\n",
            "/content\n",
            "['.config', 'drive', 'adc.json', 'sample_data']\n",
            "['MyDrive', '.shortcut-targets-by-id', '.file-revisions-by-id', '.Trash']\n",
            "['shaverma.gsheet', 'swot_analys.ipynb', 'matplot_bar_swot.png']\n"
          ],
          "name": "stdout"
        }
      ]
    },
    {
      "cell_type": "code",
      "metadata": {
        "colab": {
          "base_uri": "https://localhost:8080/"
        },
        "id": "neS4yH7Ug7BK",
        "outputId": "3652ec62-6ecd-40b8-eace-636fd49ce762"
      },
      "source": [
        "import os\r\n",
        "import time\r\n",
        "from google.colab import auth\r\n",
        "auth.authenticate_user()\r\n",
        "!pip install --upgrade gspread\r\n",
        "import gspread\r\n",
        "from oauth2client.client import GoogleCredentials\r\n",
        "print('\\nРаботаем с таблицей')\r\n",
        "%ll -lAF /content/drive/MyDrive/\"Colab Notebooks\"/fold/\r\n",
        "gs = gspread.authorize(GoogleCredentials.get_application_default())\r\n",
        "os.stat('/content/drive/MyDrive/Colab Notebooks/fold/shaverma.gsheet')\r\n",
        "table = gs.open_by_key('1xw6KH4TNG1V2pEtfR30z6SITn7SnV09pVgKtTdjxkP4')\r\n",
        "print(dir(table))\r\n",
        "worksheet = table.worksheet('list1')\r\n",
        "rows = worksheet.get_all_values()\r\n",
        "print(rows)\r\n",
        "strength = [0] * 6\r\n",
        "s = 0\r\n",
        "opportunities = [0] * 6\r\n",
        "o = 0\r\n",
        "weakness = [0] * 6\r\n",
        "w = 0\r\n",
        "threats = [0] * 6\r\n",
        "t = 0\r\n",
        "flag = 'strength'\r\n",
        "for i in rows:\r\n",
        "  if i[0] == 'strength':\r\n",
        "    flag = 'strength'\r\n",
        "  if i[0] == 'weakness':\r\n",
        "    flag = 'weakness'\r\n",
        "  if i[0] == 'opportunities':\r\n",
        "    flag = 'opportunities'\r\n",
        "  if i[0] == 'threats':\r\n",
        "    flag = 'threats'\r\n",
        "  if flag == 'strength' and i[4] != '' and i[4] != 'power':\r\n",
        "    strength[s] = i[4]\r\n",
        "    s = s + 1\r\n",
        "  if flag == 'opportunities' and i[4] != '' and i[4] != 'power':\r\n",
        "    opportunities[o] = i[4]\r\n",
        "    o = o + 1\r\n",
        "  if flag == 'weakness' and i[4] != '' and i[4] != 'power':\r\n",
        "    weakness[w] = i[4]\r\n",
        "    w = w + 1\r\n",
        "  if flag == 'threats' and i[4] != '' and i[4] != 'power':\r\n",
        "    threats[t] = i[4]\r\n",
        "    t = t + 1\r\n",
        "print(strength)\r\n",
        "print(opportunities)\r\n",
        "print(weakness)\r\n",
        "print(threats)\r\n",
        "streng = 0\r\n",
        "opport = 0\r\n",
        "weak = 0\r\n",
        "threat = 0\r\n",
        "for i in strength:\r\n",
        "  streng = streng + float(i)\r\n",
        "for i in opportunities:\r\n",
        "  opport = opport + float(i)\r\n",
        "for i in weakness:\r\n",
        "  weak = weak + float(i)\r\n",
        "for i in threats:\r\n",
        "  threat = threat + float(i)\r\n",
        "worksheet.update('A43', 'strength ' + str(streng))\r\n",
        "worksheet.update('B43', 'weakness ' + str(weak))\r\n",
        "worksheet.update('C43', 'opportunities ' + str(opport))\r\n",
        "worksheet.update('D43', 'threats ' + str(threat))\r\n",
        "worksheet.update('A44', 'sum power ' + str(streng + opport - weak - threat))\r\n",
        "probab = (streng + opport) / (streng + opport + weak + threat)\r\n",
        "worksheet.update('B44', 'probability of good result ' + str(probab))"
      ],
      "execution_count": null,
      "outputs": [
        {
          "output_type": "stream",
          "text": [
            "Requirement already up-to-date: gspread in /usr/local/lib/python3.7/dist-packages (3.7.0)\n",
            "Requirement already satisfied, skipping upgrade: google-auth-oauthlib>=0.4.1 in /usr/local/lib/python3.7/dist-packages (from gspread) (0.4.2)\n",
            "Requirement already satisfied, skipping upgrade: google-auth>=1.12.0 in /usr/local/lib/python3.7/dist-packages (from gspread) (1.27.0)\n",
            "Requirement already satisfied, skipping upgrade: requests-oauthlib>=0.7.0 in /usr/local/lib/python3.7/dist-packages (from google-auth-oauthlib>=0.4.1->gspread) (1.3.0)\n",
            "Requirement already satisfied, skipping upgrade: six>=1.9.0 in /usr/local/lib/python3.7/dist-packages (from google-auth>=1.12.0->gspread) (1.15.0)\n",
            "Requirement already satisfied, skipping upgrade: cachetools<5.0,>=2.0.0 in /usr/local/lib/python3.7/dist-packages (from google-auth>=1.12.0->gspread) (4.2.1)\n",
            "Requirement already satisfied, skipping upgrade: rsa<5,>=3.1.4; python_version >= \"3.6\" in /usr/local/lib/python3.7/dist-packages (from google-auth>=1.12.0->gspread) (4.7.2)\n",
            "Requirement already satisfied, skipping upgrade: pyasn1-modules>=0.2.1 in /usr/local/lib/python3.7/dist-packages (from google-auth>=1.12.0->gspread) (0.2.8)\n",
            "Requirement already satisfied, skipping upgrade: setuptools>=40.3.0 in /usr/local/lib/python3.7/dist-packages (from google-auth>=1.12.0->gspread) (54.0.0)\n",
            "Requirement already satisfied, skipping upgrade: requests>=2.0.0 in /usr/local/lib/python3.7/dist-packages (from requests-oauthlib>=0.7.0->google-auth-oauthlib>=0.4.1->gspread) (2.23.0)\n",
            "Requirement already satisfied, skipping upgrade: oauthlib>=3.0.0 in /usr/local/lib/python3.7/dist-packages (from requests-oauthlib>=0.7.0->google-auth-oauthlib>=0.4.1->gspread) (3.1.0)\n",
            "Requirement already satisfied, skipping upgrade: pyasn1>=0.1.3 in /usr/local/lib/python3.7/dist-packages (from rsa<5,>=3.1.4; python_version >= \"3.6\"->google-auth>=1.12.0->gspread) (0.4.8)\n",
            "Requirement already satisfied, skipping upgrade: certifi>=2017.4.17 in /usr/local/lib/python3.7/dist-packages (from requests>=2.0.0->requests-oauthlib>=0.7.0->google-auth-oauthlib>=0.4.1->gspread) (2020.12.5)\n",
            "Requirement already satisfied, skipping upgrade: urllib3!=1.25.0,!=1.25.1,<1.26,>=1.21.1 in /usr/local/lib/python3.7/dist-packages (from requests>=2.0.0->requests-oauthlib>=0.7.0->google-auth-oauthlib>=0.4.1->gspread) (1.24.3)\n",
            "Requirement already satisfied, skipping upgrade: chardet<4,>=3.0.2 in /usr/local/lib/python3.7/dist-packages (from requests>=2.0.0->requests-oauthlib>=0.7.0->google-auth-oauthlib>=0.4.1->gspread) (3.0.4)\n",
            "Requirement already satisfied, skipping upgrade: idna<3,>=2.5 in /usr/local/lib/python3.7/dist-packages (from requests>=2.0.0->requests-oauthlib>=0.7.0->google-auth-oauthlib>=0.4.1->gspread) (2.10)\n",
            "\n",
            "Работаем с таблицей\n",
            "total 50\n",
            "-rw------- 1 root 12008 Mar  3 14:40 matplot_bar_swot.png\n",
            "-rw------- 1 root   151 Mar  3 16:11 shaverma.gsheet\n",
            "-rw------- 1 root 38192 Mar  3 14:40 swot_analys.ipynb\n",
            "['__class__', '__delattr__', '__dict__', '__dir__', '__doc__', '__eq__', '__format__', '__ge__', '__getattribute__', '__gt__', '__hash__', '__init__', '__init_subclass__', '__iter__', '__le__', '__lt__', '__module__', '__ne__', '__new__', '__reduce__', '__reduce_ex__', '__repr__', '__setattr__', '__sizeof__', '__str__', '__subclasshook__', '__weakref__', '_properties', '_spreadsheets_get', '_spreadsheets_sheets_copy_to', 'add_worksheet', 'batch_update', 'client', 'del_worksheet', 'duplicate_sheet', 'fetch_sheet_metadata', 'get_worksheet', 'id', 'list_permissions', 'remove_permissions', 'reorder_worksheets', 'share', 'sheet1', 'title', 'updated', 'url', 'values_append', 'values_batch_get', 'values_batch_update', 'values_clear', 'values_get', 'values_update', 'worksheet', 'worksheets']\n",
            "[['', '', '', 'Шавермешная', ''], ['', '', '', '', ''], ['strength', '', '', '', ''], ['name', 'actions', 'importance', 'probability', 'power'], ['минимизация налогов', 'решение принимает собственник', '6', '1.00', '6'], ['возможность получения прибыли', 'выполенение моделирования работы предприятия в условиях близких к реальным', '5', '0.9', '4.5'], ['приготовление вкусной шавермы', 'поставка свежих продуктов и наличие хорошего оборудования', '7', '0.6', '4.2'], ['аренда маленького помещения', 'нет нужды арендовать большое помещение, за счет этого можно сократить расходы на аренду', '7', '0.9', '6.3'], ['легкая рецептура', 'шаверму сможет приготовить почти любой человек', '2', '0.8', '1.6'], ['', '', '', '', ''], ['', '', '', '', ''], ['', '', '', '', ''], ['weakness', '', '', '', ''], ['name', 'actions', 'importance', 'probability', 'power'], ['задержка поставок продукции', 'заключение договоров на постоянные поставки', '7', '0.2', '1.4'], ['потеря энергоснабжения', 'очень маловероятно', '10', '0.01', '0.1'], ['воровство продуктов персоналом', 'поставить камеру слежения и ввести штрафы', '5', '0.2', '1'], ['малая известность у населения', 'освоение соцсетей для рекламы', '7', '0.4', '2.8'], ['неудачное расположение', 'зависит от собственника. Надо выбрать место рядом с учебным заведением или вдоль оживленной улицы, где нет конкурентов', '10', '0.1', '1'], ['', '', '', '', ''], ['', '', '', '', ''], ['', '', '', '', ''], ['opportunities', '', '', '', ''], ['name ', 'actions', 'importance', 'probability', 'power'], ['минимизация величины кредита', 'покупка б/у оборудования, но хорошего качества', '6', '0.8', '4.8'], ['спрос на продукцию', 'обусловлен желанием людей поесть вкусно и недорого', '8', '0.5', '4'], ['охват вегитарианцев', 'разработать рецепт для тех, кто не ест мясо', '4', '0.8', '3.2'], ['организация доставки', 'зарегистрироваться в сервисах по доставке, тем самым увеличив доход', '7', '0.9', '6.3'], ['активная рекламная кампания', 'использование таргетированной рекламы для определенного круга людей', '6', '0.7', '4.2'], ['предоставление других видов фаст фуда', 'приготовление бургеров и хот-догов, которые не требуют дополнительного оборудования', '6', '0.9', '5.4'], ['', '', '', '', ''], ['', '', '', '', ''], ['threats', '', '', '', ''], ['name', 'actions', 'importance', 'probability', 'power'], ['наличие конкуренции', 'выбор правильного места и предоставление качественной продукции исключает эту угрозу', '7', '0.1', '0.7'], ['поднятие цен на используемые продукты', 'поиск новых поставщиков или поднятие цен на шаверму. Также будем смотреть на действия конкурентов', '8', '0.7', '5.6'], ['изменение вкусовых предпочтений клиентов', 'предоставить возможность клиенту самому \"собрать\" шаверму/хот-дог/бургер', '8', '0.2', '1.6'], ['текучка кадров', 'повышение зарплат, начисление процентов за продажи', '3', '0.8', '2.4'], ['', '', '', '', ''], ['', '', '', '', ''], ['', '', '', '', ''], ['', '', '', '', ''], ['strength 22.6', 'weakness 6.3', 'opportunities 27.9', 'threats 10.3', ''], ['sum power 33.900000000000006', 'probability of good result 0.752608047690015', '', '', '']]\n",
            "['6', '4.5', '4.2', '6.3', '1.6', 0]\n",
            "['4.8', '4', '3.2', '6.3', '4.2', '5.4']\n",
            "['1.4', '0.1', '1', '2.8', '1', 0]\n",
            "['0.7', '5.6', '1.6', '2.4', 0, 0]\n"
          ],
          "name": "stdout"
        },
        {
          "output_type": "execute_result",
          "data": {
            "text/plain": [
              "{'spreadsheetId': '1xw6KH4TNG1V2pEtfR30z6SITn7SnV09pVgKtTdjxkP4',\n",
              " 'updatedCells': 1,\n",
              " 'updatedColumns': 1,\n",
              " 'updatedRange': 'list1!B44',\n",
              " 'updatedRows': 1}"
            ]
          },
          "metadata": {
            "tags": []
          },
          "execution_count": 17
        }
      ]
    },
    {
      "cell_type": "code",
      "metadata": {
        "id": "JWI3WLX8MVOn",
        "colab": {
          "base_uri": "https://localhost:8080/",
          "height": 1000
        },
        "outputId": "a50f6483-daf6-44b6-952d-d27ecf910b36"
      },
      "source": [
        "import os\r\n",
        "import time\r\n",
        "from google.colab import auth\r\n",
        "auth.authenticate_user()\r\n",
        "!pip install --upgrade gspread\r\n",
        "import gspread\r\n",
        "from oauth2client.client import GoogleCredentials\r\n",
        "print('\\nРаботаем с таблицей')\r\n",
        "%ll -lAF /content/drive/MyDrive/\"Colab Notebooks\"/fold/\r\n",
        "gs = gspread.authorize(GoogleCredentials.get_application_default())\r\n",
        "os.stat('/content/drive/MyDrive/Colab Notebooks/fold/shaverma.gsheet')\r\n",
        "table = gs.open_by_key('1xw6KH4TNG1V2pEtfR30z6SITn7SnV09pVgKtTdjxkP4')\r\n",
        "worksheet = table.worksheet('list1')\r\n",
        "rows = worksheet.get_all_values()\r\n",
        "print(rows)\r\n",
        "strength = [0] * 6\r\n",
        "s = 0\r\n",
        "opportunities = [0] * 6\r\n",
        "o = 0\r\n",
        "weakness = [0] * 6\r\n",
        "w = 0\r\n",
        "threats = [0] * 6\r\n",
        "t = 0\r\n",
        "flag = 'strength'\r\n",
        "for i in rows:\r\n",
        "  if i[0] == 'strength':\r\n",
        "    flag = 'strength'\r\n",
        "  if i[0] == 'weakness':\r\n",
        "    flag = 'weakness'\r\n",
        "  if i[0] == 'opportunities':\r\n",
        "    flag = 'opportunities'\r\n",
        "  if i[0] == 'threats':\r\n",
        "    flag = 'threats'\r\n",
        "  if flag == 'strength' and i[4] != '' and i[4] != 'power':\r\n",
        "    strength[s] = i[4]\r\n",
        "    s = s + 1\r\n",
        "  if flag == 'opportunities' and i[4] != '' and i[4] != 'power':\r\n",
        "    opportunities[o] = i[4]\r\n",
        "    o = o + 1\r\n",
        "  if flag == 'weakness' and i[4] != '' and i[4] != 'power':\r\n",
        "    weakness[w] = i[4]\r\n",
        "    w = w + 1\r\n",
        "  if flag == 'threats' and i[4] != '' and i[4] != 'power':\r\n",
        "    threats[t] = i[4]\r\n",
        "    t = t + 1\r\n",
        "streng = 0\r\n",
        "opport = 0\r\n",
        "weak = 0\r\n",
        "threat = 0\r\n",
        "for i in strength:\r\n",
        "  streng = streng + float(i)\r\n",
        "for i in opportunities:\r\n",
        "  opport = opport + float(i)\r\n",
        "for i in weakness:\r\n",
        "  weak = weak + float(i)\r\n",
        "for i in threats:\r\n",
        "  threat = threat + float(i)\r\n",
        "\r\n",
        "import matplotlib.pyplot as plt\r\n",
        "x=list()\r\n",
        "x_float=list()\r\n",
        "title=list()\r\n",
        "y_float=list()\r\n",
        "    \r\n",
        "title = [ \"strengths\", \"weaknesses\", \"opportunities\", \"threats\", \"result\"]\r\n",
        "x=title\r\n",
        "x_float = [1, 2, 3, 4, 5]\r\n",
        "result = streng - 1*weak + opport - 1*threat\r\n",
        "y = [streng, weak, opport, threat]\r\n",
        "y_float = [streng, -1*weak, opport, -1*threat,  result]\r\n",
        "print(x_float,title,y_float)\r\n",
        "print('списки формированы-->\\n')\r\n",
        "x_pos=list()\r\n",
        "for i in range(x_float.__len__()):\r\n",
        "    x_pos.append(i)\r\n",
        "print('<!--разбивка по абсцисс и значения ординат\\n', len( x_float), x_pos, y_float, ' -->\\n')\r\n",
        "\r\n",
        "fig=plt.figure(figsize=(8,6), dpi=72)\r\n",
        "plt.bar(x_pos, y_float, width=0.75, align='edge', alpha=0.4)\r\n",
        "plt.xticks(x_pos,  x_float, fontsize=14)\r\n",
        "plt.xlabel('Обозначения1', fontsize=14)\r\n",
        "plt.ylabel('Мощность воздействия', fontsize=14)\r\n",
        "plt.title('SWOT', fontsize=14)\r\n",
        "plt.grid(True, color='r', linestyle='-', linewidth=2)\r\n",
        "#plt.draw()\r\n",
        "plt.show()\r\n",
        "fig.savefig(\"/content/drive/MyDrive/Colab Notebooks/fold/matplot_bar_swot.png\")\r\n",
        "print('<div class=\"d-flex flex-row \">')\r\n",
        "print('<div class=\"card m-1\" style=\"width: 28rem;\">',\r\n",
        "      '<img  src=\"/content/drive/MyDrive/Colab Notebooks/foldr/matplot_bar_swot.png\" class=\"card-img-top\" alt=\"...\">',\r\n",
        "      '<div class=\"card-body\">')\r\n",
        "    \r\n",
        "for i in range(title.__len__()):\r\n",
        "    print(i+1, \" - \", title[i], \"; \")\r\n",
        "    i += 1\r\n",
        "print('</div>', '</div>')\r\n",
        "print('<div>')\r\n",
        "\r\n"
      ],
      "execution_count": null,
      "outputs": [
        {
          "output_type": "stream",
          "text": [
            "Requirement already up-to-date: gspread in /usr/local/lib/python3.7/dist-packages (3.7.0)\n",
            "Requirement already satisfied, skipping upgrade: google-auth>=1.12.0 in /usr/local/lib/python3.7/dist-packages (from gspread) (1.27.0)\n",
            "Requirement already satisfied, skipping upgrade: google-auth-oauthlib>=0.4.1 in /usr/local/lib/python3.7/dist-packages (from gspread) (0.4.2)\n",
            "Requirement already satisfied, skipping upgrade: rsa<5,>=3.1.4; python_version >= \"3.6\" in /usr/local/lib/python3.7/dist-packages (from google-auth>=1.12.0->gspread) (4.7.2)\n",
            "Requirement already satisfied, skipping upgrade: six>=1.9.0 in /usr/local/lib/python3.7/dist-packages (from google-auth>=1.12.0->gspread) (1.15.0)\n",
            "Requirement already satisfied, skipping upgrade: setuptools>=40.3.0 in /usr/local/lib/python3.7/dist-packages (from google-auth>=1.12.0->gspread) (54.0.0)\n",
            "Requirement already satisfied, skipping upgrade: cachetools<5.0,>=2.0.0 in /usr/local/lib/python3.7/dist-packages (from google-auth>=1.12.0->gspread) (4.2.1)\n",
            "Requirement already satisfied, skipping upgrade: pyasn1-modules>=0.2.1 in /usr/local/lib/python3.7/dist-packages (from google-auth>=1.12.0->gspread) (0.2.8)\n",
            "Requirement already satisfied, skipping upgrade: requests-oauthlib>=0.7.0 in /usr/local/lib/python3.7/dist-packages (from google-auth-oauthlib>=0.4.1->gspread) (1.3.0)\n",
            "Requirement already satisfied, skipping upgrade: pyasn1>=0.1.3 in /usr/local/lib/python3.7/dist-packages (from rsa<5,>=3.1.4; python_version >= \"3.6\"->google-auth>=1.12.0->gspread) (0.4.8)\n",
            "Requirement already satisfied, skipping upgrade: oauthlib>=3.0.0 in /usr/local/lib/python3.7/dist-packages (from requests-oauthlib>=0.7.0->google-auth-oauthlib>=0.4.1->gspread) (3.1.0)\n",
            "Requirement already satisfied, skipping upgrade: requests>=2.0.0 in /usr/local/lib/python3.7/dist-packages (from requests-oauthlib>=0.7.0->google-auth-oauthlib>=0.4.1->gspread) (2.23.0)\n",
            "Requirement already satisfied, skipping upgrade: certifi>=2017.4.17 in /usr/local/lib/python3.7/dist-packages (from requests>=2.0.0->requests-oauthlib>=0.7.0->google-auth-oauthlib>=0.4.1->gspread) (2020.12.5)\n",
            "Requirement already satisfied, skipping upgrade: chardet<4,>=3.0.2 in /usr/local/lib/python3.7/dist-packages (from requests>=2.0.0->requests-oauthlib>=0.7.0->google-auth-oauthlib>=0.4.1->gspread) (3.0.4)\n",
            "Requirement already satisfied, skipping upgrade: urllib3!=1.25.0,!=1.25.1,<1.26,>=1.21.1 in /usr/local/lib/python3.7/dist-packages (from requests>=2.0.0->requests-oauthlib>=0.7.0->google-auth-oauthlib>=0.4.1->gspread) (1.24.3)\n",
            "Requirement already satisfied, skipping upgrade: idna<3,>=2.5 in /usr/local/lib/python3.7/dist-packages (from requests>=2.0.0->requests-oauthlib>=0.7.0->google-auth-oauthlib>=0.4.1->gspread) (2.10)\n",
            "\n",
            "Работаем с таблицей\n",
            "total 24\n",
            "-rw------- 1 root 12008 Mar  3 14:40 matplot_bar_swot.png\n",
            "-rw------- 1 root   151 Mar  3 16:11 shaverma.gsheet\n",
            "-rw------- 1 root 11187 Mar  3 16:22 swot_analys.ipynb\n",
            "[['', '', '', 'Шавермешная', ''], ['', '', '', '', ''], ['strength', '', '', '', ''], ['name', 'actions', 'importance', 'probability', 'power'], ['минимизация налогов', 'решение принимает собственник', '6', '1.00', '6'], ['возможность получения прибыли', 'выполенение моделирования работы предприятия в условиях близких к реальным', '5', '0.9', '4.5'], ['приготовление вкусной шавермы', 'поставка свежих продуктов и наличие хорошего оборудования', '7', '0.6', '4.2'], ['аренда маленького помещения', 'нет нужды арендовать большое помещение, за счет этого можно сократить расходы на аренду', '7', '0.9', '6.3'], ['легкая рецептура', 'шаверму сможет приготовить почти любой человек', '2', '0.8', '1.6'], ['', '', '', '', ''], ['', '', '', '', ''], ['', '', '', '', ''], ['weakness', '', '', '', ''], ['name', 'actions', 'importance', 'probability', 'power'], ['задержка поставок продукции', 'заключение договоров на постоянные поставки', '7', '0.2', '1.4'], ['потеря энергоснабжения', 'очень маловероятно', '10', '0.01', '0.1'], ['воровство продуктов персоналом', 'поставить камеру слежения и ввести штрафы', '5', '0.2', '1'], ['малая известность у населения', 'освоение соцсетей для рекламы', '7', '0.4', '2.8'], ['неудачное расположение', 'зависит от собственника. Надо выбрать место рядом с учебным заведением или вдоль оживленной улицы, где нет конкурентов', '10', '0.1', '1'], ['', '', '', '', ''], ['', '', '', '', ''], ['', '', '', '', ''], ['opportunities', '', '', '', ''], ['name ', 'actions', 'importance', 'probability', 'power'], ['минимизация величины кредита', 'покупка б/у оборудования, но хорошего качества', '6', '0.8', '4.8'], ['спрос на продукцию', 'обусловлен желанием людей поесть вкусно и недорого', '8', '0.5', '4'], ['охват вегитарианцев', 'разработать рецепт для тех, кто не ест мясо', '4', '0.8', '3.2'], ['организация доставки', 'зарегистрироваться в сервисах по доставке, тем самым увеличив доход', '7', '0.9', '6.3'], ['активная рекламная кампания', 'использование таргетированной рекламы для определенного круга людей', '6', '0.7', '4.2'], ['предоставление других видов фаст фуда', 'приготовление бургеров и хот-догов, которые не требуют дополнительного оборудования', '6', '0.9', '5.4'], ['', '', '', '', ''], ['', '', '', '', ''], ['threats', '', '', '', ''], ['name', 'actions', 'importance', 'probability', 'power'], ['наличие конкуренции', 'выбор правильного места и предоставление качественной продукции исключает эту угрозу', '7', '0.1', '0.7'], ['поднятие цен на используемые продукты', 'поиск новых поставщиков или поднятие цен на шаверму. Также будем смотреть на действия конкурентов', '8', '0.7', '5.6'], ['изменение вкусовых предпочтений клиентов', 'предоставить возможность клиенту самому \"собрать\" шаверму/хот-дог/бургер', '8', '0.2', '1.6'], ['текучка кадров', 'повышение зарплат, начисление процентов за продажи', '3', '0.8', '2.4'], ['', '', '', '', ''], ['', '', '', '', ''], ['', '', '', '', ''], ['', '', '', '', ''], ['strength 22.6', 'weakness 6.3', 'opportunities 27.9', 'threats 10.3', ''], ['sum power 33.900000000000006', 'probability of good result 0.752608047690015', '', '', '']]\n",
            "[1, 2, 3, 4, 5] ['strengths', 'weaknesses', 'opportunities', 'threats', 'result'] [22.6, -6.3, 27.9, -10.3, 33.900000000000006]\n",
            "списки формированы-->\n",
            "\n",
            "<!--разбивка по абсцисс и значения ординат\n",
            " 5 [0, 1, 2, 3, 4] [22.6, -6.3, 27.9, -10.3, 33.900000000000006]  -->\n",
            "\n"
          ],
          "name": "stdout"
        },
        {
          "output_type": "display_data",
          "data": {
            "image/png": "[encoded data removed]",
            "text/plain": [
              "<Figure size 576x432 with 1 Axes>"
            ]
          },
          "metadata": {
            "tags": [],
            "needs_background": "light"
          }
        },
        {
          "output_type": "stream",
          "text": [
            "<div class=\"d-flex flex-row \">\n",
            "<div class=\"card m-1\" style=\"width: 28rem;\"> <img  src=\"/content/drive/MyDrive/Colab Notebooks/foldr/matplot_bar_swot.png\" class=\"card-img-top\" alt=\"...\"> <div class=\"card-body\">\n",
            "1  -  strengths ; \n",
            "2  -  weaknesses ; \n",
            "3  -  opportunities ; \n",
            "4  -  threats ; \n",
            "5  -  result ; \n",
            "</div> </div>\n",
            "<div>\n"
          ],
          "name": "stdout"
        }
      ]
    }
  ]
}